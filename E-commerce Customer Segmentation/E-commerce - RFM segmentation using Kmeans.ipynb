{
 "cells": [
  {
   "cell_type": "markdown",
   "metadata": {},
   "source": [
    "# E-commerce RFM Customer Segmentation"
   ]
  },
  {
   "cell_type": "markdown",
   "metadata": {},
   "source": [
    "This notebook aims at performing customer segmentation base on RFM metrics and KMeans model  \n",
    "RFM stands for Recency, Frequency, and Monetary value, each corresponding to some key customer trait  \n",
    "\n",
    "In this project, we use E-commerce dataset that contains purchase transactions of over 4000 customers within a year (Dec-2010 - Dec-2011)  \n"
   ]
  },
  {
   "cell_type": "markdown",
   "metadata": {},
   "source": [
    "<h1>Table of contents</h1>\n",
    "\n",
    "<head>\n",
    "  <title>Title of the document</title>\n",
    "  <style>\n",
    "    ol {\n",
    "      counter-reset: item;\n",
    "    }\n",
    "    li {\n",
    "      display: block;\n",
    "    }\n",
    "    li:before {\n",
    "      content: counters(item, \".\") \" \";\n",
    "      counter-increment: item;\n",
    "    }\n",
    "  </style>\n",
    "</head>\n",
    "<div class=\"alert alert-block alert-info\" style=\"margin-top: 20px\">\n",
    "    <ol>\n",
    "        <li><a href=\"#data_u_c\">Data Understanding and Cleaning</a>\n",
    "        <ol>\n",
    "            <li><a href=\"#data_understanding\">Data Understanding</a></li>\n",
    "            <li><a href=\"#data_cleaning\">Data Cleaning</a></li>\n",
    "        </ol></li>\n",
    "        <li><a href=\"#eda\">Exploratory Data Analysis (EDA)</a>\n",
    "        <ol>\n",
    "            <li><a href=\"#stockcode_n_des\">StockCode and Description</a></li>\n",
    "            <li><a href=\"#country\">Country</a></li>\n",
    "            <li><a href=\"#invoice_date\">InvoiceDate</a></li>\n",
    "            <li><a href=\"#quantity_price\">Quantity and UnitPrice</a></li>\n",
    "        </ol></li>\n",
    "        <li><a href=\"#modeling\">Modeling</a>\n",
    "        <ol>\n",
    "            <li><a href=\"#data_transformation\">Data transformation</a></li>\n",
    "            <li><a href=\"#data_normalization\">Data Normalization</a></li>\n",
    "            <li><a href=\"#data_modeling\">Data Modeling</a></li>\n",
    "        </ol></li>\n",
    "    </ol>\n",
    "</div>\n",
    "<hr>"
   ]
  },
  {
   "cell_type": "markdown",
   "metadata": {},
   "source": [
    "## 1. Data Understanding and Data Cleaning\n",
    "<a id=\"data_u_c\"></a>"
   ]
  },
  {
   "cell_type": "markdown",
   "metadata": {},
   "source": [
    "### 1.1 Data Understanding\n",
    "<a id=\"data_understanding\"></a>"
   ]
  },
  {
   "cell_type": "markdown",
   "metadata": {},
   "source": [
    "Import library"
   ]
  },
  {
   "cell_type": "code",
   "execution_count": 1,
   "metadata": {},
   "outputs": [
    {
     "data": {
      "text/html": [
       "        <script type=\"text/javascript\">\n",
       "        window.PlotlyConfig = {MathJaxConfig: 'local'};\n",
       "        if (window.MathJax) {MathJax.Hub.Config({SVG: {font: \"STIX-Web\"}});}\n",
       "        if (typeof require !== 'undefined') {\n",
       "        require.undef(\"plotly\");\n",
       "        requirejs.config({\n",
       "            paths: {\n",
       "                'plotly': ['https://cdn.plot.ly/plotly-2.4.2.min']\n",
       "            }\n",
       "        });\n",
       "        require(['plotly'], function(Plotly) {\n",
       "            window._Plotly = Plotly;\n",
       "        });\n",
       "        }\n",
       "        </script>\n",
       "        "
      ]
     },
     "metadata": {},
     "output_type": "display_data"
    }
   ],
   "source": [
    "import numpy as np\n",
    "import pandas as pd\n",
    "import seaborn as sns\n",
    "import matplotlib.pyplot as plt\n",
    "from scipy import stats\n",
    "\n",
    "from sklearn.preprocessing import StandardScaler\n",
    "from sklearn.cluster import KMeans\n",
    "from sklearn.metrics import silhouette_score\n",
    "\n",
    "import plotly as py\n",
    "import plotly.graph_objs as go\n",
    "py.offline.init_notebook_mode(connected = True)\n",
    "\n",
    "import datetime as dt\n",
    "import warnings\n",
    "warnings.filterwarnings(\"ignore\")\n",
    "\n",
    "%matplotlib inline\n",
    "\n",
    "plt.rcParams['figure.figsize'] = (12, 6.75)"
   ]
  },
  {
   "cell_type": "code",
   "execution_count": 2,
   "metadata": {},
   "outputs": [],
   "source": [
    "df = pd.read_csv(\"./input/data.csv\",\n",
    "                 encoding = 'unicode-escape',\n",
    "                 dtype={'CustomerID': str, 'InvoiceDate': str,},\n",
    "                 parse_dates = ['InvoiceDate'])"
   ]
  },
  {
   "cell_type": "code",
   "execution_count": 3,
   "metadata": {},
   "outputs": [
    {
     "name": "stdout",
     "output_type": "stream",
     "text": [
      "<class 'pandas.core.frame.DataFrame'>\n",
      "RangeIndex: 541909 entries, 0 to 541908\n",
      "Data columns (total 8 columns):\n",
      " #   Column       Non-Null Count   Dtype         \n",
      "---  ------       --------------   -----         \n",
      " 0   InvoiceNo    541909 non-null  object        \n",
      " 1   StockCode    541909 non-null  object        \n",
      " 2   Description  540455 non-null  object        \n",
      " 3   Quantity     541909 non-null  int64         \n",
      " 4   InvoiceDate  541909 non-null  datetime64[ns]\n",
      " 5   UnitPrice    541909 non-null  float64       \n",
      " 6   CustomerID   406829 non-null  object        \n",
      " 7   Country      541909 non-null  object        \n",
      "dtypes: datetime64[ns](1), float64(1), int64(1), object(5)\n",
      "memory usage: 33.1+ MB\n"
     ]
    }
   ],
   "source": [
    "df.info()"
   ]
  },
  {
   "cell_type": "markdown",
   "metadata": {},
   "source": [
    "### Variable Description\n",
    "\n",
    "- **InvoiceNo**: Invoice number that consists 6 digits. If this code starts with letter 'c', it indicates a cancellation.\n",
    "- **StockCode**: Product code that consists 5 digits.\n",
    "- **Description**: Product name.\n",
    "- **Quantity**: The quantities of each product per transaction.\n",
    "- **InvoiceDate**: Represents the day and time when each transaction was generated.\n",
    "- **UnitPrice**: Product price per unit.\n",
    "- **CustomerID**: Customer number that consists 5 digits. Each customer has a unique customer ID.\n",
    "- **Country**: Name of the country where each customer resides."
   ]
  },
  {
   "cell_type": "markdown",
   "metadata": {},
   "source": [
    "### 1.2 Data Cleaning\n",
    "<a id=\"data_cleaning\"></a>"
   ]
  },
  {
   "cell_type": "markdown",
   "metadata": {},
   "source": [
    "#### 1.2.1 Current features"
   ]
  },
  {
   "cell_type": "code",
   "execution_count": 4,
   "metadata": {},
   "outputs": [
    {
     "data": {
      "text/plain": [
       "InvoiceNo           0\n",
       "StockCode           0\n",
       "Description      1454\n",
       "Quantity            0\n",
       "InvoiceDate         0\n",
       "UnitPrice           0\n",
       "CustomerID     135080\n",
       "Country             0\n",
       "dtype: int64"
      ]
     },
     "execution_count": 4,
     "metadata": {},
     "output_type": "execute_result"
    }
   ],
   "source": [
    "df.isnull().sum()"
   ]
  },
  {
   "cell_type": "code",
   "execution_count": 5,
   "metadata": {},
   "outputs": [
    {
     "data": {
      "text/plain": [
       "<AxesSubplot:>"
      ]
     },
     "execution_count": 5,
     "metadata": {},
     "output_type": "execute_result"
    },
    {
     "data": {
      "image/png": "[encoded data removed]",
      "text/plain": [
       "<Figure size 864x486 with 1 Axes>"
      ]
     },
     "metadata": {
      "needs_background": "light"
     },
     "output_type": "display_data"
    }
   ],
   "source": [
    "sns.heatmap(df.isnull(), cbar=False, cmap='GnBu')"
   ]
  },
  {
   "cell_type": "markdown",
   "metadata": {},
   "source": [
    "Let's look at some sample records that has null CustomerID"
   ]
  },
  {
   "cell_type": "code",
   "execution_count": 6,
   "metadata": {},
   "outputs": [
    {
     "data": {
      "text/html": [
       "<div>\n",
       "<style scoped>\n",
       "    .dataframe tbody tr th:only-of-type {\n",
       "        vertical-align: middle;\n",
       "    }\n",
       "\n",
       "    .dataframe tbody tr th {\n",
       "        vertical-align: top;\n",
       "    }\n",
       "\n",
       "    .dataframe thead th {\n",
       "        text-align: right;\n",
       "    }\n",
       "</style>\n",
       "<table border=\"1\" class=\"dataframe\">\n",
       "  <thead>\n",
       "    <tr style=\"text-align: right;\">\n",
       "      <th></th>\n",
       "      <th>InvoiceNo</th>\n",
       "      <th>StockCode</th>\n",
       "      <th>Description</th>\n",
       "      <th>Quantity</th>\n",
       "      <th>InvoiceDate</th>\n",
       "      <th>UnitPrice</th>\n",
       "      <th>CustomerID</th>\n",
       "      <th>Country</th>\n",
       "    </tr>\n",
       "  </thead>\n",
       "  <tbody>\n",
       "    <tr>\n",
       "      <th>53032</th>\n",
       "      <td>540821</td>\n",
       "      <td>20754</td>\n",
       "      <td>RETROSPOT RED WASHING UP GLOVES</td>\n",
       "      <td>1</td>\n",
       "      <td>2011-01-11 13:16:00</td>\n",
       "      <td>4.21</td>\n",
       "      <td>NaN</td>\n",
       "      <td>United Kingdom</td>\n",
       "    </tr>\n",
       "    <tr>\n",
       "      <th>287687</th>\n",
       "      <td>562113</td>\n",
       "      <td>20664</td>\n",
       "      <td>TROPICAL HOLIDAY PURSE</td>\n",
       "      <td>1</td>\n",
       "      <td>2011-08-02 16:11:00</td>\n",
       "      <td>2.46</td>\n",
       "      <td>NaN</td>\n",
       "      <td>United Kingdom</td>\n",
       "    </tr>\n",
       "    <tr>\n",
       "      <th>52817</th>\n",
       "      <td>540821</td>\n",
       "      <td>22348</td>\n",
       "      <td>TEA BAG PLATE RED RETROSPOT</td>\n",
       "      <td>1</td>\n",
       "      <td>2011-01-11 13:16:00</td>\n",
       "      <td>1.66</td>\n",
       "      <td>NaN</td>\n",
       "      <td>United Kingdom</td>\n",
       "    </tr>\n",
       "    <tr>\n",
       "      <th>220396</th>\n",
       "      <td>556188</td>\n",
       "      <td>20868</td>\n",
       "      <td>SILVER FABRIC MIRROR</td>\n",
       "      <td>5</td>\n",
       "      <td>2011-06-09 11:49:00</td>\n",
       "      <td>0.39</td>\n",
       "      <td>NaN</td>\n",
       "      <td>United Kingdom</td>\n",
       "    </tr>\n",
       "    <tr>\n",
       "      <th>13754</th>\n",
       "      <td>537434</td>\n",
       "      <td>22973</td>\n",
       "      <td>CHILDREN'S CIRCUS PARADE MUG</td>\n",
       "      <td>1</td>\n",
       "      <td>2010-12-06 16:57:00</td>\n",
       "      <td>3.36</td>\n",
       "      <td>NaN</td>\n",
       "      <td>United Kingdom</td>\n",
       "    </tr>\n",
       "    <tr>\n",
       "      <th>341873</th>\n",
       "      <td>566787</td>\n",
       "      <td>23339</td>\n",
       "      <td>EGG FRYING PAN BLUE</td>\n",
       "      <td>1</td>\n",
       "      <td>2011-09-15 10:31:00</td>\n",
       "      <td>4.13</td>\n",
       "      <td>NaN</td>\n",
       "      <td>United Kingdom</td>\n",
       "    </tr>\n",
       "    <tr>\n",
       "      <th>42898</th>\n",
       "      <td>540026</td>\n",
       "      <td>22258</td>\n",
       "      <td>FELT FARM ANIMAL RABBIT</td>\n",
       "      <td>9</td>\n",
       "      <td>2011-01-04 13:25:00</td>\n",
       "      <td>0.85</td>\n",
       "      <td>NaN</td>\n",
       "      <td>United Kingdom</td>\n",
       "    </tr>\n",
       "    <tr>\n",
       "      <th>141228</th>\n",
       "      <td>548504</td>\n",
       "      <td>21931</td>\n",
       "      <td>JUMBO STORAGE BAG SUKI</td>\n",
       "      <td>4</td>\n",
       "      <td>2011-03-31 14:33:00</td>\n",
       "      <td>4.13</td>\n",
       "      <td>NaN</td>\n",
       "      <td>United Kingdom</td>\n",
       "    </tr>\n",
       "    <tr>\n",
       "      <th>539417</th>\n",
       "      <td>581439</td>\n",
       "      <td>21126</td>\n",
       "      <td>SET OF 6 GIRLS CELEBRATION CANDLES</td>\n",
       "      <td>2</td>\n",
       "      <td>2011-12-08 16:30:00</td>\n",
       "      <td>1.25</td>\n",
       "      <td>NaN</td>\n",
       "      <td>United Kingdom</td>\n",
       "    </tr>\n",
       "    <tr>\n",
       "      <th>279862</th>\n",
       "      <td>561369</td>\n",
       "      <td>21918</td>\n",
       "      <td>SET 12 KIDS COLOUR  CHALK STICKS</td>\n",
       "      <td>1</td>\n",
       "      <td>2011-07-26 16:21:00</td>\n",
       "      <td>0.83</td>\n",
       "      <td>NaN</td>\n",
       "      <td>United Kingdom</td>\n",
       "    </tr>\n",
       "  </tbody>\n",
       "</table>\n",
       "</div>"
      ],
      "text/plain": [
       "       InvoiceNo StockCode                         Description  Quantity  \\\n",
       "53032     540821     20754     RETROSPOT RED WASHING UP GLOVES         1   \n",
       "287687    562113     20664             TROPICAL HOLIDAY PURSE          1   \n",
       "52817     540821     22348         TEA BAG PLATE RED RETROSPOT         1   \n",
       "220396    556188     20868                SILVER FABRIC MIRROR         5   \n",
       "13754     537434     22973        CHILDREN'S CIRCUS PARADE MUG         1   \n",
       "341873    566787     23339                EGG FRYING PAN BLUE          1   \n",
       "42898     540026     22258             FELT FARM ANIMAL RABBIT         9   \n",
       "141228    548504     21931              JUMBO STORAGE BAG SUKI         4   \n",
       "539417    581439     21126  SET OF 6 GIRLS CELEBRATION CANDLES         2   \n",
       "279862    561369     21918    SET 12 KIDS COLOUR  CHALK STICKS         1   \n",
       "\n",
       "               InvoiceDate  UnitPrice CustomerID         Country  \n",
       "53032  2011-01-11 13:16:00       4.21        NaN  United Kingdom  \n",
       "287687 2011-08-02 16:11:00       2.46        NaN  United Kingdom  \n",
       "52817  2011-01-11 13:16:00       1.66        NaN  United Kingdom  \n",
       "220396 2011-06-09 11:49:00       0.39        NaN  United Kingdom  \n",
       "13754  2010-12-06 16:57:00       3.36        NaN  United Kingdom  \n",
       "341873 2011-09-15 10:31:00       4.13        NaN  United Kingdom  \n",
       "42898  2011-01-04 13:25:00       0.85        NaN  United Kingdom  \n",
       "141228 2011-03-31 14:33:00       4.13        NaN  United Kingdom  \n",
       "539417 2011-12-08 16:30:00       1.25        NaN  United Kingdom  \n",
       "279862 2011-07-26 16:21:00       0.83        NaN  United Kingdom  "
      ]
     },
     "execution_count": 6,
     "metadata": {},
     "output_type": "execute_result"
    }
   ],
   "source": [
    "df.loc[df.CustomerID.isnull()].sample(10, random_state=27)"
   ]
  },
  {
   "cell_type": "markdown",
   "metadata": {},
   "source": [
    "Can we impute it by look for InvoiceNo within dataset that CustomerID is not null?\n",
    "Let's find out"
   ]
  },
  {
   "cell_type": "code",
   "execution_count": 7,
   "metadata": {},
   "outputs": [
    {
     "data": {
      "text/plain": [
       "InvoiceNo\n",
       "False        135080\n",
       "dtype: int64"
      ]
     },
     "execution_count": 7,
     "metadata": {},
     "output_type": "execute_result"
    }
   ],
   "source": [
    "df.loc[df.CustomerID.isnull(), ['InvoiceNo']].isin(df.loc[~df.CustomerID.isnull(), ['InvoiceNo']]).value_counts()"
   ]
  },
  {
   "cell_type": "markdown",
   "metadata": {},
   "source": [
    "Non of InvoiceNo with null CustomerID were found in the rest of dataset.  \n",
    "Without CustomerID, we can not perform customer segmentation and further customer analysis. So we drop records with null CustomerID"
   ]
  },
  {
   "cell_type": "code",
   "execution_count": 8,
   "metadata": {},
   "outputs": [],
   "source": [
    "df.dropna(axis=0, subset=['CustomerID'], inplace=True)"
   ]
  },
  {
   "cell_type": "code",
   "execution_count": 9,
   "metadata": {},
   "outputs": [
    {
     "data": {
      "text/plain": [
       "InvoiceNo      0\n",
       "StockCode      0\n",
       "Description    0\n",
       "Quantity       0\n",
       "InvoiceDate    0\n",
       "UnitPrice      0\n",
       "CustomerID     0\n",
       "Country        0\n",
       "dtype: int64"
      ]
     },
     "execution_count": 9,
     "metadata": {},
     "output_type": "execute_result"
    }
   ],
   "source": [
    "df.isnull().sum()"
   ]
  },
  {
   "cell_type": "markdown",
   "metadata": {},
   "source": [
    "After drop null CustomerID, remaining data has no null values"
   ]
  },
  {
   "cell_type": "markdown",
   "metadata": {},
   "source": [
    "In this dataset, cancellation transactions is the one with negative quantity and InvoiceNo start with letter 'C'  \n",
    "We need to drop irrelevant transactions, that is the cancellations that not corresponding with any transaction in this dataset  "
   ]
  },
  {
   "cell_type": "code",
   "execution_count": 10,
   "metadata": {},
   "outputs": [
    {
     "data": {
      "text/html": [
       "<div>\n",
       "<style scoped>\n",
       "    .dataframe tbody tr th:only-of-type {\n",
       "        vertical-align: middle;\n",
       "    }\n",
       "\n",
       "    .dataframe tbody tr th {\n",
       "        vertical-align: top;\n",
       "    }\n",
       "\n",
       "    .dataframe thead th {\n",
       "        text-align: right;\n",
       "    }\n",
       "</style>\n",
       "<table border=\"1\" class=\"dataframe\">\n",
       "  <thead>\n",
       "    <tr style=\"text-align: right;\">\n",
       "      <th></th>\n",
       "      <th>InvoiceNo</th>\n",
       "      <th>StockCode</th>\n",
       "      <th>Description</th>\n",
       "      <th>Quantity</th>\n",
       "      <th>InvoiceDate</th>\n",
       "      <th>UnitPrice</th>\n",
       "      <th>CustomerID</th>\n",
       "      <th>Country</th>\n",
       "    </tr>\n",
       "  </thead>\n",
       "  <tbody>\n",
       "    <tr>\n",
       "      <th>141</th>\n",
       "      <td>C536379</td>\n",
       "      <td>D</td>\n",
       "      <td>Discount</td>\n",
       "      <td>-1</td>\n",
       "      <td>2010-12-01 09:41:00</td>\n",
       "      <td>27.50</td>\n",
       "      <td>14527</td>\n",
       "      <td>United Kingdom</td>\n",
       "    </tr>\n",
       "    <tr>\n",
       "      <th>154</th>\n",
       "      <td>C536383</td>\n",
       "      <td>35004C</td>\n",
       "      <td>SET OF 3 COLOURED  FLYING DUCKS</td>\n",
       "      <td>-1</td>\n",
       "      <td>2010-12-01 09:49:00</td>\n",
       "      <td>4.65</td>\n",
       "      <td>15311</td>\n",
       "      <td>United Kingdom</td>\n",
       "    </tr>\n",
       "    <tr>\n",
       "      <th>235</th>\n",
       "      <td>C536391</td>\n",
       "      <td>22556</td>\n",
       "      <td>PLASTERS IN TIN CIRCUS PARADE</td>\n",
       "      <td>-12</td>\n",
       "      <td>2010-12-01 10:24:00</td>\n",
       "      <td>1.65</td>\n",
       "      <td>17548</td>\n",
       "      <td>United Kingdom</td>\n",
       "    </tr>\n",
       "    <tr>\n",
       "      <th>236</th>\n",
       "      <td>C536391</td>\n",
       "      <td>21984</td>\n",
       "      <td>PACK OF 12 PINK PAISLEY TISSUES</td>\n",
       "      <td>-24</td>\n",
       "      <td>2010-12-01 10:24:00</td>\n",
       "      <td>0.29</td>\n",
       "      <td>17548</td>\n",
       "      <td>United Kingdom</td>\n",
       "    </tr>\n",
       "    <tr>\n",
       "      <th>237</th>\n",
       "      <td>C536391</td>\n",
       "      <td>21983</td>\n",
       "      <td>PACK OF 12 BLUE PAISLEY TISSUES</td>\n",
       "      <td>-24</td>\n",
       "      <td>2010-12-01 10:24:00</td>\n",
       "      <td>0.29</td>\n",
       "      <td>17548</td>\n",
       "      <td>United Kingdom</td>\n",
       "    </tr>\n",
       "  </tbody>\n",
       "</table>\n",
       "</div>"
      ],
      "text/plain": [
       "    InvoiceNo StockCode                       Description  Quantity  \\\n",
       "141   C536379         D                          Discount        -1   \n",
       "154   C536383    35004C   SET OF 3 COLOURED  FLYING DUCKS        -1   \n",
       "235   C536391     22556    PLASTERS IN TIN CIRCUS PARADE        -12   \n",
       "236   C536391     21984  PACK OF 12 PINK PAISLEY TISSUES        -24   \n",
       "237   C536391     21983  PACK OF 12 BLUE PAISLEY TISSUES        -24   \n",
       "\n",
       "            InvoiceDate  UnitPrice CustomerID         Country  \n",
       "141 2010-12-01 09:41:00      27.50      14527  United Kingdom  \n",
       "154 2010-12-01 09:49:00       4.65      15311  United Kingdom  \n",
       "235 2010-12-01 10:24:00       1.65      17548  United Kingdom  \n",
       "236 2010-12-01 10:24:00       0.29      17548  United Kingdom  \n",
       "237 2010-12-01 10:24:00       0.29      17548  United Kingdom  "
      ]
     },
     "execution_count": 10,
     "metadata": {},
     "output_type": "execute_result"
    }
   ],
   "source": [
    "df.loc[df.Quantity < 0].head(5)"
   ]
  },
  {
   "cell_type": "code",
   "execution_count": 11,
   "metadata": {},
   "outputs": [
    {
     "data": {
      "text/plain": [
       "Timestamp('2010-12-01 08:26:00')"
      ]
     },
     "execution_count": 11,
     "metadata": {},
     "output_type": "execute_result"
    }
   ],
   "source": [
    "df.InvoiceDate.min()"
   ]
  },
  {
   "cell_type": "markdown",
   "metadata": {},
   "source": [
    "We can see, StockCode = 'D' indicate for Discount that customer received.  \n",
    "Cancellation and discount usually take place after the origin transaction date. So, for cancellation and discount occurred in the very first day (2010-12-01) of this dataset, we will exclude them, as they indicate previous transaction that not included"
   ]
  },
  {
   "cell_type": "code",
   "execution_count": 12,
   "metadata": {},
   "outputs": [],
   "source": [
    "df.drop(axis=0, index=df.loc[(df.InvoiceDate < dt.datetime(2010,12,2)) & \n",
    "                             (df.Quantity < 0)].index, inplace=True)"
   ]
  },
  {
   "cell_type": "markdown",
   "metadata": {},
   "source": [
    "We need to keep index to find keep/remove records much easier"
   ]
  },
  {
   "cell_type": "code",
   "execution_count": 13,
   "metadata": {},
   "outputs": [],
   "source": [
    "df_cancel = df.loc[(df.Quantity < 0) & (df.StockCode != 'D')].copy()\n",
    "df_cancel['origin_index'] = df_cancel.index"
   ]
  },
  {
   "cell_type": "markdown",
   "metadata": {},
   "source": [
    "Now, we map cancellations with its origin transactions. If we can not find its origin, we will drop it"
   ]
  },
  {
   "cell_type": "code",
   "execution_count": 14,
   "metadata": {},
   "outputs": [
    {
     "data": {
      "text/html": [
       "<div>\n",
       "<style scoped>\n",
       "    .dataframe tbody tr th:only-of-type {\n",
       "        vertical-align: middle;\n",
       "    }\n",
       "\n",
       "    .dataframe tbody tr th {\n",
       "        vertical-align: top;\n",
       "    }\n",
       "\n",
       "    .dataframe thead th {\n",
       "        text-align: right;\n",
       "    }\n",
       "</style>\n",
       "<table border=\"1\" class=\"dataframe\">\n",
       "  <thead>\n",
       "    <tr style=\"text-align: right;\">\n",
       "      <th></th>\n",
       "      <th>InvoiceNo_x</th>\n",
       "      <th>StockCode</th>\n",
       "      <th>Description_x</th>\n",
       "      <th>Quantity_x</th>\n",
       "      <th>InvoiceDate_x</th>\n",
       "      <th>UnitPrice</th>\n",
       "      <th>CustomerID</th>\n",
       "      <th>Country_x</th>\n",
       "      <th>origin_index</th>\n",
       "      <th>InvoiceNo_y</th>\n",
       "      <th>Description_y</th>\n",
       "      <th>Quantity_y</th>\n",
       "      <th>InvoiceDate_y</th>\n",
       "      <th>Country_y</th>\n",
       "    </tr>\n",
       "  </thead>\n",
       "  <tbody>\n",
       "    <tr>\n",
       "      <th>0</th>\n",
       "      <td>C536606</td>\n",
       "      <td>20914</td>\n",
       "      <td>SET/5 RED RETROSPOT LID GLASS BOWLS</td>\n",
       "      <td>-2</td>\n",
       "      <td>2010-12-02 09:10:00</td>\n",
       "      <td>2.95</td>\n",
       "      <td>14092</td>\n",
       "      <td>United Kingdom</td>\n",
       "      <td>3170</td>\n",
       "      <td>539283</td>\n",
       "      <td>SET/5 RED RETROSPOT LID GLASS BOWLS</td>\n",
       "      <td>6.0</td>\n",
       "      <td>2010-12-16 15:47:00</td>\n",
       "      <td>United Kingdom</td>\n",
       "    </tr>\n",
       "    <tr>\n",
       "      <th>1</th>\n",
       "      <td>C536606</td>\n",
       "      <td>20914</td>\n",
       "      <td>SET/5 RED RETROSPOT LID GLASS BOWLS</td>\n",
       "      <td>-2</td>\n",
       "      <td>2010-12-02 09:10:00</td>\n",
       "      <td>2.95</td>\n",
       "      <td>14092</td>\n",
       "      <td>United Kingdom</td>\n",
       "      <td>3170</td>\n",
       "      <td>546640</td>\n",
       "      <td>SET/5 RED RETROSPOT LID GLASS BOWLS</td>\n",
       "      <td>6.0</td>\n",
       "      <td>2011-03-15 12:56:00</td>\n",
       "      <td>United Kingdom</td>\n",
       "    </tr>\n",
       "  </tbody>\n",
       "</table>\n",
       "</div>"
      ],
      "text/plain": [
       "  InvoiceNo_x StockCode                        Description_x  Quantity_x  \\\n",
       "0     C536606     20914  SET/5 RED RETROSPOT LID GLASS BOWLS          -2   \n",
       "1     C536606     20914  SET/5 RED RETROSPOT LID GLASS BOWLS          -2   \n",
       "\n",
       "        InvoiceDate_x  UnitPrice CustomerID       Country_x  origin_index  \\\n",
       "0 2010-12-02 09:10:00       2.95      14092  United Kingdom          3170   \n",
       "1 2010-12-02 09:10:00       2.95      14092  United Kingdom          3170   \n",
       "\n",
       "  InvoiceNo_y                        Description_y  Quantity_y  \\\n",
       "0      539283  SET/5 RED RETROSPOT LID GLASS BOWLS         6.0   \n",
       "1      546640  SET/5 RED RETROSPOT LID GLASS BOWLS         6.0   \n",
       "\n",
       "        InvoiceDate_y       Country_y  \n",
       "0 2010-12-16 15:47:00  United Kingdom  \n",
       "1 2011-03-15 12:56:00  United Kingdom  "
      ]
     },
     "execution_count": 14,
     "metadata": {},
     "output_type": "execute_result"
    }
   ],
   "source": [
    "new_df = pd.merge(df_cancel, df.loc[df.Quantity > 0],\n",
    "                  how='left',\n",
    "                  left_on=['CustomerID', 'StockCode', 'UnitPrice'],\n",
    "                  right_on=['CustomerID', 'StockCode', 'UnitPrice'])\n",
    "new_df.head(2)"
   ]
  },
  {
   "cell_type": "code",
   "execution_count": 15,
   "metadata": {},
   "outputs": [
    {
     "data": {
      "text/plain": [
       "(1630,)"
      ]
     },
     "execution_count": 15,
     "metadata": {},
     "output_type": "execute_result"
    }
   ],
   "source": [
    "keep = new_df.loc[(new_df.InvoiceDate_y <= new_df.InvoiceDate_x) &\n",
    "                  (-new_df.Quantity_x <= new_df.Quantity_y)\n",
    "                  , ['origin_index']].drop_duplicates()\n",
    "remove_index = df_cancel.loc[~df_cancel.index.isin(keep.origin_index)].index\n",
    "remove_index.shape"
   ]
  },
  {
   "cell_type": "code",
   "execution_count": 16,
   "metadata": {},
   "outputs": [],
   "source": [
    "df.drop(index=remove_index, inplace=True)"
   ]
  },
  {
   "cell_type": "markdown",
   "metadata": {},
   "source": [
    "#### 1.2.2 Added feature: TotalPrice"
   ]
  },
  {
   "cell_type": "code",
   "execution_count": 17,
   "metadata": {},
   "outputs": [],
   "source": [
    "df[['TotalPrice']] = pd.DataFrame(df.Quantity * df.UnitPrice)"
   ]
  },
  {
   "cell_type": "code",
   "execution_count": 18,
   "metadata": {},
   "outputs": [
    {
     "data": {
      "text/html": [
       "<div>\n",
       "<style scoped>\n",
       "    .dataframe tbody tr th:only-of-type {\n",
       "        vertical-align: middle;\n",
       "    }\n",
       "\n",
       "    .dataframe tbody tr th {\n",
       "        vertical-align: top;\n",
       "    }\n",
       "\n",
       "    .dataframe thead th {\n",
       "        text-align: right;\n",
       "    }\n",
       "</style>\n",
       "<table border=\"1\" class=\"dataframe\">\n",
       "  <thead>\n",
       "    <tr style=\"text-align: right;\">\n",
       "      <th></th>\n",
       "      <th>InvoiceNo</th>\n",
       "      <th>StockCode</th>\n",
       "      <th>Description</th>\n",
       "      <th>Quantity</th>\n",
       "      <th>InvoiceDate</th>\n",
       "      <th>UnitPrice</th>\n",
       "      <th>CustomerID</th>\n",
       "      <th>Country</th>\n",
       "      <th>TotalPrice</th>\n",
       "    </tr>\n",
       "  </thead>\n",
       "  <tbody>\n",
       "    <tr>\n",
       "      <th>52711</th>\n",
       "      <td>540815</td>\n",
       "      <td>21108</td>\n",
       "      <td>FAIRY CAKE FLANNEL ASSORTED COLOUR</td>\n",
       "      <td>3114</td>\n",
       "      <td>2011-01-11 12:55:00</td>\n",
       "      <td>2.10</td>\n",
       "      <td>15749</td>\n",
       "      <td>United Kingdom</td>\n",
       "      <td>6539.40</td>\n",
       "    </tr>\n",
       "    <tr>\n",
       "      <th>61619</th>\n",
       "      <td>541431</td>\n",
       "      <td>23166</td>\n",
       "      <td>MEDIUM CERAMIC TOP STORAGE JAR</td>\n",
       "      <td>74215</td>\n",
       "      <td>2011-01-18 10:01:00</td>\n",
       "      <td>1.04</td>\n",
       "      <td>12346</td>\n",
       "      <td>United Kingdom</td>\n",
       "      <td>77183.60</td>\n",
       "    </tr>\n",
       "    <tr>\n",
       "      <th>160546</th>\n",
       "      <td>550461</td>\n",
       "      <td>21108</td>\n",
       "      <td>FAIRY CAKE FLANNEL ASSORTED COLOUR</td>\n",
       "      <td>3114</td>\n",
       "      <td>2011-04-18 13:20:00</td>\n",
       "      <td>2.10</td>\n",
       "      <td>15749</td>\n",
       "      <td>United Kingdom</td>\n",
       "      <td>6539.40</td>\n",
       "    </tr>\n",
       "    <tr>\n",
       "      <th>173382</th>\n",
       "      <td>551697</td>\n",
       "      <td>POST</td>\n",
       "      <td>POSTAGE</td>\n",
       "      <td>1</td>\n",
       "      <td>2011-05-03 13:46:00</td>\n",
       "      <td>8142.75</td>\n",
       "      <td>16029</td>\n",
       "      <td>United Kingdom</td>\n",
       "      <td>8142.75</td>\n",
       "    </tr>\n",
       "    <tr>\n",
       "      <th>222680</th>\n",
       "      <td>556444</td>\n",
       "      <td>22502</td>\n",
       "      <td>PICNIC BASKET WICKER 60 PIECES</td>\n",
       "      <td>60</td>\n",
       "      <td>2011-06-10 15:28:00</td>\n",
       "      <td>649.50</td>\n",
       "      <td>15098</td>\n",
       "      <td>United Kingdom</td>\n",
       "      <td>38970.00</td>\n",
       "    </tr>\n",
       "    <tr>\n",
       "      <th>348325</th>\n",
       "      <td>567423</td>\n",
       "      <td>23243</td>\n",
       "      <td>SET OF TEA COFFEE SUGAR TINS PANTRY</td>\n",
       "      <td>1412</td>\n",
       "      <td>2011-09-20 11:05:00</td>\n",
       "      <td>5.06</td>\n",
       "      <td>17450</td>\n",
       "      <td>United Kingdom</td>\n",
       "      <td>7144.72</td>\n",
       "    </tr>\n",
       "    <tr>\n",
       "      <th>540421</th>\n",
       "      <td>581483</td>\n",
       "      <td>23843</td>\n",
       "      <td>PAPER CRAFT , LITTLE BIRDIE</td>\n",
       "      <td>80995</td>\n",
       "      <td>2011-12-09 09:15:00</td>\n",
       "      <td>2.08</td>\n",
       "      <td>16446</td>\n",
       "      <td>United Kingdom</td>\n",
       "      <td>168469.60</td>\n",
       "    </tr>\n",
       "  </tbody>\n",
       "</table>\n",
       "</div>"
      ],
      "text/plain": [
       "       InvoiceNo StockCode                          Description  Quantity  \\\n",
       "52711     540815     21108   FAIRY CAKE FLANNEL ASSORTED COLOUR      3114   \n",
       "61619     541431     23166       MEDIUM CERAMIC TOP STORAGE JAR     74215   \n",
       "160546    550461     21108   FAIRY CAKE FLANNEL ASSORTED COLOUR      3114   \n",
       "173382    551697      POST                              POSTAGE         1   \n",
       "222680    556444     22502       PICNIC BASKET WICKER 60 PIECES        60   \n",
       "348325    567423     23243  SET OF TEA COFFEE SUGAR TINS PANTRY      1412   \n",
       "540421    581483     23843          PAPER CRAFT , LITTLE BIRDIE     80995   \n",
       "\n",
       "               InvoiceDate  UnitPrice CustomerID         Country  TotalPrice  \n",
       "52711  2011-01-11 12:55:00       2.10      15749  United Kingdom     6539.40  \n",
       "61619  2011-01-18 10:01:00       1.04      12346  United Kingdom    77183.60  \n",
       "160546 2011-04-18 13:20:00       2.10      15749  United Kingdom     6539.40  \n",
       "173382 2011-05-03 13:46:00    8142.75      16029  United Kingdom     8142.75  \n",
       "222680 2011-06-10 15:28:00     649.50      15098  United Kingdom    38970.00  \n",
       "348325 2011-09-20 11:05:00       5.06      17450  United Kingdom     7144.72  \n",
       "540421 2011-12-09 09:15:00       2.08      16446  United Kingdom   168469.60  "
      ]
     },
     "execution_count": 18,
     "metadata": {},
     "output_type": "execute_result"
    }
   ],
   "source": [
    "df.loc[df.TotalPrice > 5000]"
   ]
  },
  {
   "cell_type": "code",
   "execution_count": 19,
   "metadata": {},
   "outputs": [
    {
     "data": {
      "text/plain": [
       "count    405173.000000\n",
       "mean         20.847463\n",
       "std         423.205031\n",
       "min     -168469.600000\n",
       "25%           4.250000\n",
       "50%          11.250000\n",
       "75%          19.500000\n",
       "max      168469.600000\n",
       "Name: TotalPrice, dtype: float64"
      ]
     },
     "execution_count": 19,
     "metadata": {},
     "output_type": "execute_result"
    }
   ],
   "source": [
    "df.TotalPrice.describe()"
   ]
  },
  {
   "cell_type": "markdown",
   "metadata": {},
   "source": [
    "We will see the quantile in more detail"
   ]
  },
  {
   "cell_type": "code",
   "execution_count": 20,
   "metadata": {},
   "outputs": [
    {
     "data": {
      "text/plain": [
       "0.00   -168469.60\n",
       "0.05         0.85\n",
       "0.10         1.65\n",
       "0.15         2.50\n",
       "0.20         3.30\n",
       "0.25         4.25\n",
       "0.30         5.04\n",
       "0.35         6.75\n",
       "0.40         8.40\n",
       "0.45        10.00\n",
       "0.50        11.25\n",
       "0.55        13.50\n",
       "0.60        15.00\n",
       "0.65        15.90\n",
       "0.70        17.40\n",
       "0.75        19.50\n",
       "0.80        20.80\n",
       "0.85        25.50\n",
       "0.90        35.40\n",
       "0.95        67.50\n",
       "1.00    168469.60\n",
       "Name: TotalPrice, dtype: float64"
      ]
     },
     "execution_count": 20,
     "metadata": {},
     "output_type": "execute_result"
    }
   ],
   "source": [
    "df.TotalPrice.quantile(np.linspace(0,1,21))"
   ]
  },
  {
   "cell_type": "markdown",
   "metadata": {},
   "source": [
    "Outliers need to be replace, as it could affect our model. I sugguest to replace them with threshold at 0.01 and 0.99 quantile"
   ]
  },
  {
   "cell_type": "code",
   "execution_count": 21,
   "metadata": {},
   "outputs": [],
   "source": [
    "df_initial = df.copy()\n",
    "up_limit = df.TotalPrice.quantile(0.99)\n",
    "low_limit = df.TotalPrice.quantile(0.01)\n",
    "df.loc[df.TotalPrice > up_limit, ['TotalPrice']] = up_limit\n",
    "df.loc[df.TotalPrice < low_limit, ['TotalPrice']] = low_limit"
   ]
  },
  {
   "cell_type": "code",
   "execution_count": 22,
   "metadata": {},
   "outputs": [
    {
     "data": {
      "image/png": "[encoded data removed]",
      "text/plain": [
       "<Figure size 864x486 with 1 Axes>"
      ]
     },
     "metadata": {
      "needs_background": "light"
     },
     "output_type": "display_data"
    }
   ],
   "source": [
    "sns.distplot(df.TotalPrice)\n",
    "plt.show()"
   ]
  },
  {
   "cell_type": "markdown",
   "metadata": {},
   "source": [
    "To reduce skewness, I will use another upper threshold for TotalPrice at $100"
   ]
  },
  {
   "cell_type": "code",
   "execution_count": 23,
   "metadata": {},
   "outputs": [],
   "source": [
    "df.loc[df.TotalPrice > 100, ['TotalPrice']] = 100"
   ]
  },
  {
   "cell_type": "code",
   "execution_count": 24,
   "metadata": {},
   "outputs": [
    {
     "data": {
      "image/png": "[encoded data removed]",
      "text/plain": [
       "<Figure size 864x486 with 1 Axes>"
      ]
     },
     "metadata": {
      "needs_background": "light"
     },
     "output_type": "display_data"
    }
   ],
   "source": [
    "sns.distplot(df.TotalPrice)\n",
    "plt.show()"
   ]
  },
  {
   "cell_type": "markdown",
   "metadata": {},
   "source": [
    "#### 1.2.3 Calculate Recency, Frequency, Monetary"
   ]
  },
  {
   "cell_type": "code",
   "execution_count": 25,
   "metadata": {},
   "outputs": [
    {
     "data": {
      "text/plain": [
       "Timestamp('2011-12-09 12:50:00')"
      ]
     },
     "execution_count": 25,
     "metadata": {},
     "output_type": "execute_result"
    }
   ],
   "source": [
    "df.InvoiceDate.max()"
   ]
  },
  {
   "cell_type": "code",
   "execution_count": 26,
   "metadata": {},
   "outputs": [
    {
     "data": {
      "text/html": [
       "<div>\n",
       "<style scoped>\n",
       "    .dataframe tbody tr th:only-of-type {\n",
       "        vertical-align: middle;\n",
       "    }\n",
       "\n",
       "    .dataframe tbody tr th {\n",
       "        vertical-align: top;\n",
       "    }\n",
       "\n",
       "    .dataframe thead th {\n",
       "        text-align: right;\n",
       "    }\n",
       "</style>\n",
       "<table border=\"1\" class=\"dataframe\">\n",
       "  <thead>\n",
       "    <tr style=\"text-align: right;\">\n",
       "      <th></th>\n",
       "      <th>CustomerID</th>\n",
       "      <th>Recency</th>\n",
       "      <th>Frequency</th>\n",
       "      <th>Monetary</th>\n",
       "    </tr>\n",
       "  </thead>\n",
       "  <tbody>\n",
       "    <tr>\n",
       "      <th>0</th>\n",
       "      <td>12346</td>\n",
       "      <td>326</td>\n",
       "      <td>2</td>\n",
       "      <td>92.50</td>\n",
       "    </tr>\n",
       "    <tr>\n",
       "      <th>1</th>\n",
       "      <td>12347</td>\n",
       "      <td>3</td>\n",
       "      <td>7</td>\n",
       "      <td>4148.00</td>\n",
       "    </tr>\n",
       "    <tr>\n",
       "      <th>2</th>\n",
       "      <td>12348</td>\n",
       "      <td>76</td>\n",
       "      <td>4</td>\n",
       "      <td>1562.84</td>\n",
       "    </tr>\n",
       "    <tr>\n",
       "      <th>3</th>\n",
       "      <td>12349</td>\n",
       "      <td>19</td>\n",
       "      <td>1</td>\n",
       "      <td>1557.55</td>\n",
       "    </tr>\n",
       "    <tr>\n",
       "      <th>4</th>\n",
       "      <td>12350</td>\n",
       "      <td>311</td>\n",
       "      <td>1</td>\n",
       "      <td>334.40</td>\n",
       "    </tr>\n",
       "  </tbody>\n",
       "</table>\n",
       "</div>"
      ],
      "text/plain": [
       "  CustomerID  Recency  Frequency  Monetary\n",
       "0      12346      326          2     92.50\n",
       "1      12347        3          7   4148.00\n",
       "2      12348       76          4   1562.84\n",
       "3      12349       19          1   1557.55\n",
       "4      12350      311          1    334.40"
      ]
     },
     "execution_count": 26,
     "metadata": {},
     "output_type": "execute_result"
    }
   ],
   "source": [
    "today_date = dt.datetime(2011,12,10).date()\n",
    "df_RFM = df.groupby(['CustomerID'], as_index=False).agg({'InvoiceDate': lambda x: (today_date - x.max().to_pydatetime().date()).days,\n",
    "                                          'InvoiceNo': lambda x: x.nunique(),\n",
    "                                          'TotalPrice': lambda x: x.sum()})\n",
    "df_RFM.columns = ['CustomerID', 'Recency', 'Frequency', 'Monetary']\n",
    "df_RFM.head(5)"
   ]
  },
  {
   "cell_type": "code",
   "execution_count": 27,
   "metadata": {},
   "outputs": [
    {
     "data": {
      "text/html": [
       "<div>\n",
       "<style scoped>\n",
       "    .dataframe tbody tr th:only-of-type {\n",
       "        vertical-align: middle;\n",
       "    }\n",
       "\n",
       "    .dataframe tbody tr th {\n",
       "        vertical-align: top;\n",
       "    }\n",
       "\n",
       "    .dataframe thead th {\n",
       "        text-align: right;\n",
       "    }\n",
       "</style>\n",
       "<table border=\"1\" class=\"dataframe\">\n",
       "  <thead>\n",
       "    <tr style=\"text-align: right;\">\n",
       "      <th></th>\n",
       "      <th>Recency</th>\n",
       "      <th>Frequency</th>\n",
       "      <th>Monetary</th>\n",
       "    </tr>\n",
       "  </thead>\n",
       "  <tbody>\n",
       "    <tr>\n",
       "      <th>count</th>\n",
       "      <td>4339.000000</td>\n",
       "      <td>4339.000000</td>\n",
       "      <td>4339.000000</td>\n",
       "    </tr>\n",
       "    <tr>\n",
       "      <th>mean</th>\n",
       "      <td>91.561420</td>\n",
       "      <td>4.981102</td>\n",
       "      <td>1564.103801</td>\n",
       "    </tr>\n",
       "    <tr>\n",
       "      <th>std</th>\n",
       "      <td>99.638404</td>\n",
       "      <td>9.136540</td>\n",
       "      <td>4538.967035</td>\n",
       "    </tr>\n",
       "    <tr>\n",
       "      <th>min</th>\n",
       "      <td>1.000000</td>\n",
       "      <td>1.000000</td>\n",
       "      <td>0.000000</td>\n",
       "    </tr>\n",
       "    <tr>\n",
       "      <th>25%</th>\n",
       "      <td>17.000000</td>\n",
       "      <td>1.000000</td>\n",
       "      <td>289.295000</td>\n",
       "    </tr>\n",
       "    <tr>\n",
       "      <th>50%</th>\n",
       "      <td>50.000000</td>\n",
       "      <td>3.000000</td>\n",
       "      <td>635.410000</td>\n",
       "    </tr>\n",
       "    <tr>\n",
       "      <th>75%</th>\n",
       "      <td>141.000000</td>\n",
       "      <td>5.000000</td>\n",
       "      <td>1534.995000</td>\n",
       "    </tr>\n",
       "    <tr>\n",
       "      <th>max</th>\n",
       "      <td>374.000000</td>\n",
       "      <td>246.000000</td>\n",
       "      <td>156863.760000</td>\n",
       "    </tr>\n",
       "  </tbody>\n",
       "</table>\n",
       "</div>"
      ],
      "text/plain": [
       "           Recency    Frequency       Monetary\n",
       "count  4339.000000  4339.000000    4339.000000\n",
       "mean     91.561420     4.981102    1564.103801\n",
       "std      99.638404     9.136540    4538.967035\n",
       "min       1.000000     1.000000       0.000000\n",
       "25%      17.000000     1.000000     289.295000\n",
       "50%      50.000000     3.000000     635.410000\n",
       "75%     141.000000     5.000000    1534.995000\n",
       "max     374.000000   246.000000  156863.760000"
      ]
     },
     "execution_count": 27,
     "metadata": {},
     "output_type": "execute_result"
    }
   ],
   "source": [
    "df_RFM.describe()"
   ]
  },
  {
   "cell_type": "markdown",
   "metadata": {},
   "source": [
    "Monetary has a big std, a mean is 2.5 times larger than median  \n",
    "Let's reduce Monetary max value to quantile 0.99"
   ]
  },
  {
   "cell_type": "code",
   "execution_count": 28,
   "metadata": {},
   "outputs": [],
   "source": [
    "up_limit = df_RFM.Monetary.quantile(0.99)\n",
    "df_RFM.loc[df_RFM.Monetary > up_limit, ['Monetary']] = up_limit"
   ]
  },
  {
   "cell_type": "code",
   "execution_count": 29,
   "metadata": {},
   "outputs": [
    {
     "data": {
      "text/html": [
       "<div>\n",
       "<style scoped>\n",
       "    .dataframe tbody tr th:only-of-type {\n",
       "        vertical-align: middle;\n",
       "    }\n",
       "\n",
       "    .dataframe tbody tr th {\n",
       "        vertical-align: top;\n",
       "    }\n",
       "\n",
       "    .dataframe thead th {\n",
       "        text-align: right;\n",
       "    }\n",
       "</style>\n",
       "<table border=\"1\" class=\"dataframe\">\n",
       "  <thead>\n",
       "    <tr style=\"text-align: right;\">\n",
       "      <th></th>\n",
       "      <th>Recency</th>\n",
       "      <th>Frequency</th>\n",
       "      <th>Monetary</th>\n",
       "    </tr>\n",
       "  </thead>\n",
       "  <tbody>\n",
       "    <tr>\n",
       "      <th>count</th>\n",
       "      <td>4339.000000</td>\n",
       "      <td>4339.000000</td>\n",
       "      <td>4339.000000</td>\n",
       "    </tr>\n",
       "    <tr>\n",
       "      <th>mean</th>\n",
       "      <td>91.561420</td>\n",
       "      <td>4.981102</td>\n",
       "      <td>1368.169094</td>\n",
       "    </tr>\n",
       "    <tr>\n",
       "      <th>std</th>\n",
       "      <td>99.638404</td>\n",
       "      <td>9.136540</td>\n",
       "      <td>2044.360931</td>\n",
       "    </tr>\n",
       "    <tr>\n",
       "      <th>min</th>\n",
       "      <td>1.000000</td>\n",
       "      <td>1.000000</td>\n",
       "      <td>0.000000</td>\n",
       "    </tr>\n",
       "    <tr>\n",
       "      <th>25%</th>\n",
       "      <td>17.000000</td>\n",
       "      <td>1.000000</td>\n",
       "      <td>289.295000</td>\n",
       "    </tr>\n",
       "    <tr>\n",
       "      <th>50%</th>\n",
       "      <td>50.000000</td>\n",
       "      <td>3.000000</td>\n",
       "      <td>635.410000</td>\n",
       "    </tr>\n",
       "    <tr>\n",
       "      <th>75%</th>\n",
       "      <td>141.000000</td>\n",
       "      <td>5.000000</td>\n",
       "      <td>1534.995000</td>\n",
       "    </tr>\n",
       "    <tr>\n",
       "      <th>max</th>\n",
       "      <td>374.000000</td>\n",
       "      <td>246.000000</td>\n",
       "      <td>12711.737200</td>\n",
       "    </tr>\n",
       "  </tbody>\n",
       "</table>\n",
       "</div>"
      ],
      "text/plain": [
       "           Recency    Frequency      Monetary\n",
       "count  4339.000000  4339.000000   4339.000000\n",
       "mean     91.561420     4.981102   1368.169094\n",
       "std      99.638404     9.136540   2044.360931\n",
       "min       1.000000     1.000000      0.000000\n",
       "25%      17.000000     1.000000    289.295000\n",
       "50%      50.000000     3.000000    635.410000\n",
       "75%     141.000000     5.000000   1534.995000\n",
       "max     374.000000   246.000000  12711.737200"
      ]
     },
     "execution_count": 29,
     "metadata": {},
     "output_type": "execute_result"
    }
   ],
   "source": [
    "df_RFM.describe()"
   ]
  },
  {
   "cell_type": "markdown",
   "metadata": {},
   "source": [
    "## 2. Exploratory Data Analysis (EDA)\n",
    "<a id=\"eda\"></a>"
   ]
  },
  {
   "cell_type": "code",
   "execution_count": 30,
   "metadata": {},
   "outputs": [
    {
     "name": "stdout",
     "output_type": "stream",
     "text": [
      "After cleaning, our dataset has 405173 records and 9 fields\n"
     ]
    }
   ],
   "source": [
    "print(\"After cleaning, our dataset has {} records and {} fields\".format(df.shape[0], df.shape[1]))"
   ]
  },
  {
   "cell_type": "code",
   "execution_count": 31,
   "metadata": {},
   "outputs": [
    {
     "data": {
      "text/plain": [
       "Country           37\n",
       "StockCode       3666\n",
       "Description     3878\n",
       "CustomerID      4339\n",
       "InvoiceDate    19978\n",
       "InvoiceNo      21613\n",
       "dtype: int64"
      ]
     },
     "execution_count": 31,
     "metadata": {},
     "output_type": "execute_result"
    }
   ],
   "source": [
    "df[['Country', 'StockCode', 'Description', 'CustomerID', 'InvoiceDate', 'InvoiceNo']].nunique().sort_values()"
   ]
  },
  {
   "cell_type": "markdown",
   "metadata": {},
   "source": [
    "#### 2.1 StockCode and Description\n",
    "<a id=\"stockcode_n_des\"></a>"
   ]
  },
  {
   "cell_type": "markdown",
   "metadata": {},
   "source": [
    "Number of unique StockCode do not equivalent with Description  \n",
    "Let's find out which StockCode have more than one Description"
   ]
  },
  {
   "cell_type": "code",
   "execution_count": 32,
   "metadata": {},
   "outputs": [
    {
     "data": {
      "text/html": [
       "<div>\n",
       "<style scoped>\n",
       "    .dataframe tbody tr th:only-of-type {\n",
       "        vertical-align: middle;\n",
       "    }\n",
       "\n",
       "    .dataframe tbody tr th {\n",
       "        vertical-align: top;\n",
       "    }\n",
       "\n",
       "    .dataframe thead th {\n",
       "        text-align: right;\n",
       "    }\n",
       "</style>\n",
       "<table border=\"1\" class=\"dataframe\">\n",
       "  <thead>\n",
       "    <tr style=\"text-align: right;\">\n",
       "      <th></th>\n",
       "      <th>StockCode</th>\n",
       "      <th>Description</th>\n",
       "      <th>number_of_occur</th>\n",
       "    </tr>\n",
       "  </thead>\n",
       "  <tbody>\n",
       "    <tr>\n",
       "      <th>42</th>\n",
       "      <td>16156L</td>\n",
       "      <td>WRAP CAROUSEL</td>\n",
       "      <td>14</td>\n",
       "    </tr>\n",
       "    <tr>\n",
       "      <th>43</th>\n",
       "      <td>16156L</td>\n",
       "      <td>WRAP, CAROUSEL</td>\n",
       "      <td>4</td>\n",
       "    </tr>\n",
       "    <tr>\n",
       "      <th>101</th>\n",
       "      <td>17107D</td>\n",
       "      <td>FLOWER FAIRY 5 DRAWER LINERS</td>\n",
       "      <td>21</td>\n",
       "    </tr>\n",
       "    <tr>\n",
       "      <th>102</th>\n",
       "      <td>17107D</td>\n",
       "      <td>FLOWER FAIRY 5 SUMMER DRAW LINERS</td>\n",
       "      <td>1</td>\n",
       "    </tr>\n",
       "    <tr>\n",
       "      <th>103</th>\n",
       "      <td>17107D</td>\n",
       "      <td>FLOWER FAIRY,5 SUMMER B'DRAW LINERS</td>\n",
       "      <td>25</td>\n",
       "    </tr>\n",
       "    <tr>\n",
       "      <th>121</th>\n",
       "      <td>20622</td>\n",
       "      <td>VIP PASSPORT COVER</td>\n",
       "      <td>11</td>\n",
       "    </tr>\n",
       "    <tr>\n",
       "      <th>122</th>\n",
       "      <td>20622</td>\n",
       "      <td>VIPPASSPORT COVER</td>\n",
       "      <td>22</td>\n",
       "    </tr>\n",
       "    <tr>\n",
       "      <th>174</th>\n",
       "      <td>20725</td>\n",
       "      <td>LUNCH BAG RED RETROSPOT</td>\n",
       "      <td>1353</td>\n",
       "    </tr>\n",
       "    <tr>\n",
       "      <th>175</th>\n",
       "      <td>20725</td>\n",
       "      <td>LUNCH BAG RED SPOTTY</td>\n",
       "      <td>1</td>\n",
       "    </tr>\n",
       "    <tr>\n",
       "      <th>267</th>\n",
       "      <td>20914</td>\n",
       "      <td>SET/5 RED RETROSPOT LID GLASS BOWLS</td>\n",
       "      <td>808</td>\n",
       "    </tr>\n",
       "  </tbody>\n",
       "</table>\n",
       "</div>"
      ],
      "text/plain": [
       "    StockCode                          Description  number_of_occur\n",
       "42     16156L                        WRAP CAROUSEL               14\n",
       "43     16156L                       WRAP, CAROUSEL                4\n",
       "101    17107D         FLOWER FAIRY 5 DRAWER LINERS               21\n",
       "102    17107D    FLOWER FAIRY 5 SUMMER DRAW LINERS                1\n",
       "103    17107D  FLOWER FAIRY,5 SUMMER B'DRAW LINERS               25\n",
       "121     20622                  VIP PASSPORT COVER                11\n",
       "122     20622                   VIPPASSPORT COVER                22\n",
       "174     20725              LUNCH BAG RED RETROSPOT             1353\n",
       "175     20725                 LUNCH BAG RED SPOTTY                1\n",
       "267     20914  SET/5 RED RETROSPOT LID GLASS BOWLS              808"
      ]
     },
     "execution_count": 32,
     "metadata": {},
     "output_type": "execute_result"
    }
   ],
   "source": [
    "df_temp = df.groupby(['StockCode', 'Description'], as_index=False)[['CustomerID']]\\\n",
    "            .count().rename(columns={'CustomerID':'number_of_occur'})\n",
    "df_temp.loc[df_temp.StockCode.duplicated(keep=False)].head(10)"
   ]
  },
  {
   "cell_type": "markdown",
   "metadata": {},
   "source": [
    "So with the same StockCode, Descriptions are a little bit differ. It is not affect as we do not analyze Description (like find most occurred keywords or categorized them)"
   ]
  },
  {
   "cell_type": "markdown",
   "metadata": {},
   "source": [
    "In previous section, we can see that some of StockCode represent for a special transactions. They usually start with a letter"
   ]
  },
  {
   "cell_type": "code",
   "execution_count": 33,
   "metadata": {},
   "outputs": [
    {
     "data": {
      "text/html": [
       "<div>\n",
       "<style scoped>\n",
       "    .dataframe tbody tr th:only-of-type {\n",
       "        vertical-align: middle;\n",
       "    }\n",
       "\n",
       "    .dataframe tbody tr th {\n",
       "        vertical-align: top;\n",
       "    }\n",
       "\n",
       "    .dataframe thead th {\n",
       "        text-align: right;\n",
       "    }\n",
       "</style>\n",
       "<table border=\"1\" class=\"dataframe\">\n",
       "  <thead>\n",
       "    <tr style=\"text-align: right;\">\n",
       "      <th></th>\n",
       "      <th>StockCode</th>\n",
       "      <th>Description</th>\n",
       "      <th>num_of_occur</th>\n",
       "    </tr>\n",
       "  </thead>\n",
       "  <tbody>\n",
       "    <tr>\n",
       "      <th>0</th>\n",
       "      <td>BANK CHARGES</td>\n",
       "      <td>Bank Charges</td>\n",
       "      <td>12</td>\n",
       "    </tr>\n",
       "    <tr>\n",
       "      <th>1</th>\n",
       "      <td>C2</td>\n",
       "      <td>CARRIAGE</td>\n",
       "      <td>134</td>\n",
       "    </tr>\n",
       "    <tr>\n",
       "      <th>2</th>\n",
       "      <td>D</td>\n",
       "      <td>Discount</td>\n",
       "      <td>76</td>\n",
       "    </tr>\n",
       "    <tr>\n",
       "      <th>3</th>\n",
       "      <td>DOT</td>\n",
       "      <td>DOTCOM POSTAGE</td>\n",
       "      <td>16</td>\n",
       "    </tr>\n",
       "    <tr>\n",
       "      <th>4</th>\n",
       "      <td>M</td>\n",
       "      <td>Manual</td>\n",
       "      <td>317</td>\n",
       "    </tr>\n",
       "    <tr>\n",
       "      <th>5</th>\n",
       "      <td>PADS</td>\n",
       "      <td>PADS TO MATCH ALL CUSHIONS</td>\n",
       "      <td>4</td>\n",
       "    </tr>\n",
       "    <tr>\n",
       "      <th>6</th>\n",
       "      <td>POST</td>\n",
       "      <td>POSTAGE</td>\n",
       "      <td>1133</td>\n",
       "    </tr>\n",
       "  </tbody>\n",
       "</table>\n",
       "</div>"
      ],
      "text/plain": [
       "      StockCode                 Description  num_of_occur\n",
       "0  BANK CHARGES                Bank Charges            12\n",
       "1            C2                    CARRIAGE           134\n",
       "2             D                    Discount            76\n",
       "3           DOT              DOTCOM POSTAGE            16\n",
       "4             M                      Manual           317\n",
       "5          PADS  PADS TO MATCH ALL CUSHIONS             4\n",
       "6          POST                     POSTAGE          1133"
      ]
     },
     "execution_count": 33,
     "metadata": {},
     "output_type": "execute_result"
    }
   ],
   "source": [
    "spec_transact = df.loc[df.StockCode.str.contains('^[a-zA-Z]+', regex=True), ['StockCode', 'Description', 'CustomerID']]\\\n",
    "                        .groupby(['StockCode', 'Description'], as_index=False).count()\\\n",
    "                        .rename(columns={'CustomerID': 'num_of_occur'})\n",
    "spec_transact"
   ]
  },
  {
   "cell_type": "code",
   "execution_count": 34,
   "metadata": {},
   "outputs": [
    {
     "data": {
      "text/plain": [
       "array(['D', 'POST', 'C2', 'M'], dtype=object)"
      ]
     },
     "execution_count": 34,
     "metadata": {},
     "output_type": "execute_result"
    }
   ],
   "source": [
    "df.loc[(df.StockCode.isin(spec_transact.StockCode)) & (df.Quantity < 0)]['StockCode'].unique()"
   ]
  },
  {
   "cell_type": "code",
   "execution_count": 35,
   "metadata": {},
   "outputs": [
    {
     "data": {
      "text/plain": [
       "array(['POST', 'C2', 'M', 'BANK CHARGES', 'PADS', 'DOT'], dtype=object)"
      ]
     },
     "execution_count": 35,
     "metadata": {},
     "output_type": "execute_result"
    }
   ],
   "source": [
    "df.loc[(df.StockCode.isin(spec_transact.StockCode)) & (df.Quantity > 0)]['StockCode'].unique()"
   ]
  },
  {
   "cell_type": "markdown",
   "metadata": {},
   "source": [
    "POSTAGE: can have both negative and positive Quantity  \n",
    "Discount: negative  \n",
    "Others: positive"
   ]
  },
  {
   "cell_type": "markdown",
   "metadata": {},
   "source": [
    "#### 2.2 Country\n",
    "<a id=\"country\"></a>"
   ]
  },
  {
   "cell_type": "code",
   "execution_count": 36,
   "metadata": {},
   "outputs": [
    {
     "data": {
      "image/png": "[encoded data removed]",
      "text/plain": [
       "<Figure size 864x486 with 1 Axes>"
      ]
     },
     "metadata": {
      "needs_background": "light"
     },
     "output_type": "display_data"
    }
   ],
   "source": [
    "df[['Country']].value_counts().sort_values(ascending=False).head(10).plot(kind='bar')\n",
    "plt.title(\"Top 10 country\")\n",
    "plt.show()"
   ]
  },
  {
   "cell_type": "markdown",
   "metadata": {},
   "source": [
    "Most of out record (88.9%) originate from UK customers, and the remaining belongs Europe, Asian, South America"
   ]
  },
  {
   "cell_type": "markdown",
   "metadata": {},
   "source": [
    "#### 2.3 InvoiceDate\n",
    "<a id=\"invoice_date\"></a>"
   ]
  },
  {
   "cell_type": "code",
   "execution_count": 37,
   "metadata": {},
   "outputs": [
    {
     "data": {
      "text/plain": [
       "count                  405173\n",
       "unique                  19978\n",
       "top       2011-11-14 15:27:00\n",
       "freq                      542\n",
       "first     2010-12-01 08:26:00\n",
       "last      2011-12-09 12:50:00\n",
       "Name: InvoiceDate, dtype: object"
      ]
     },
     "execution_count": 37,
     "metadata": {},
     "output_type": "execute_result"
    }
   ],
   "source": [
    "df.InvoiceDate.describe()"
   ]
  },
  {
   "cell_type": "code",
   "execution_count": 38,
   "metadata": {},
   "outputs": [
    {
     "data": {
      "image/png": "[encoded data removed]",
      "text/plain": [
       "<Figure size 864x486 with 1 Axes>"
      ]
     },
     "metadata": {
      "needs_background": "light"
     },
     "output_type": "display_data"
    }
   ],
   "source": [
    "df.InvoiceDate.dt.to_period('M').value_counts().sort_index().plot(kind='bar')\n",
    "plt.title('Number of transactions over months')\n",
    "plt.show()"
   ]
  },
  {
   "cell_type": "markdown",
   "metadata": {},
   "source": [
    "There is no significant difference in transaction volume before September-2011  \n",
    "But from September-2011 to last of 2011, transaction volume increased sharply  \n",
    "Notice that our data end at 9th Dec 2011, but it reached a significant volume. For the whole December, number of transactions must high as New Year holiday's coming"
   ]
  },
  {
   "cell_type": "markdown",
   "metadata": {},
   "source": [
    "#### 2.4 Quantity and UnitPrice\n",
    "<a id=\"quantity_price\"></a>"
   ]
  },
  {
   "cell_type": "code",
   "execution_count": 39,
   "metadata": {},
   "outputs": [
    {
     "data": {
      "text/html": [
       "<div>\n",
       "<style scoped>\n",
       "    .dataframe tbody tr th:only-of-type {\n",
       "        vertical-align: middle;\n",
       "    }\n",
       "\n",
       "    .dataframe tbody tr th {\n",
       "        vertical-align: top;\n",
       "    }\n",
       "\n",
       "    .dataframe thead th {\n",
       "        text-align: right;\n",
       "    }\n",
       "</style>\n",
       "<table border=\"1\" class=\"dataframe\">\n",
       "  <thead>\n",
       "    <tr style=\"text-align: right;\">\n",
       "      <th></th>\n",
       "      <th>Quantity</th>\n",
       "      <th>UnitPrice</th>\n",
       "    </tr>\n",
       "  </thead>\n",
       "  <tbody>\n",
       "    <tr>\n",
       "      <th>count</th>\n",
       "      <td>405173.000000</td>\n",
       "      <td>405173.000000</td>\n",
       "    </tr>\n",
       "    <tr>\n",
       "      <th>mean</th>\n",
       "      <td>12.175165</td>\n",
       "      <td>3.186581</td>\n",
       "    </tr>\n",
       "    <tr>\n",
       "      <th>std</th>\n",
       "      <td>248.735532</td>\n",
       "      <td>23.056639</td>\n",
       "    </tr>\n",
       "    <tr>\n",
       "      <th>min</th>\n",
       "      <td>-80995.000000</td>\n",
       "      <td>0.000000</td>\n",
       "    </tr>\n",
       "    <tr>\n",
       "      <th>25%</th>\n",
       "      <td>2.000000</td>\n",
       "      <td>1.250000</td>\n",
       "    </tr>\n",
       "    <tr>\n",
       "      <th>50%</th>\n",
       "      <td>5.000000</td>\n",
       "      <td>1.950000</td>\n",
       "    </tr>\n",
       "    <tr>\n",
       "      <th>75%</th>\n",
       "      <td>12.000000</td>\n",
       "      <td>3.750000</td>\n",
       "    </tr>\n",
       "    <tr>\n",
       "      <th>max</th>\n",
       "      <td>80995.000000</td>\n",
       "      <td>8142.750000</td>\n",
       "    </tr>\n",
       "  </tbody>\n",
       "</table>\n",
       "</div>"
      ],
      "text/plain": [
       "            Quantity      UnitPrice\n",
       "count  405173.000000  405173.000000\n",
       "mean       12.175165       3.186581\n",
       "std       248.735532      23.056639\n",
       "min    -80995.000000       0.000000\n",
       "25%         2.000000       1.250000\n",
       "50%         5.000000       1.950000\n",
       "75%        12.000000       3.750000\n",
       "max     80995.000000    8142.750000"
      ]
     },
     "execution_count": 39,
     "metadata": {},
     "output_type": "execute_result"
    }
   ],
   "source": [
    "df[['Quantity','UnitPrice']].describe()"
   ]
  },
  {
   "cell_type": "code",
   "execution_count": 40,
   "metadata": {},
   "outputs": [
    {
     "data": {
      "text/plain": [
       "<AxesSubplot:>"
      ]
     },
     "execution_count": 40,
     "metadata": {},
     "output_type": "execute_result"
    },
    {
     "data": {
      "image/png": "[encoded data removed]",
      "text/plain": [
       "<Figure size 864x486 with 1 Axes>"
      ]
     },
     "metadata": {
      "needs_background": "light"
     },
     "output_type": "display_data"
    }
   ],
   "source": [
    "df.loc[(df.Quantity > 0), ['Quantity']].plot(kind='box')"
   ]
  },
  {
   "cell_type": "markdown",
   "metadata": {},
   "source": [
    "75% values of Quantity is below 12, but the max value reach nearly 81k! Box plot show a lot of outliers"
   ]
  },
  {
   "cell_type": "markdown",
   "metadata": {},
   "source": [
    "UnitPrice has the same situation with Quantity, while most values (97%) below $10, some others can reach $8k"
   ]
  },
  {
   "cell_type": "markdown",
   "metadata": {},
   "source": [
    "## 3. Modeling\n",
    "<a id=\"modeling\"></a>"
   ]
  },
  {
   "cell_type": "markdown",
   "metadata": {},
   "source": [
    "### 3.1 Data transformation\n",
    "<a id=\"data_transformation\"></a>"
   ]
  },
  {
   "cell_type": "code",
   "execution_count": 41,
   "metadata": {},
   "outputs": [
    {
     "data": {
      "image/png": "[encoded data removed]",
      "text/plain": [
       "<Figure size 864x288 with 3 Axes>"
      ]
     },
     "metadata": {
      "needs_background": "light"
     },
     "output_type": "display_data"
    }
   ],
   "source": [
    "fix, ax = plt.subplots(1, 3, figsize=(12,4))\n",
    "sns.distplot(df_RFM.Recency, ax = ax[0])\n",
    "sns.distplot(df_RFM.Frequency, ax = ax[1])\n",
    "sns.distplot(df_RFM.Monetary, ax = ax[2])\n",
    "plt.tight_layout()\n",
    "plt.show()"
   ]
  },
  {
   "cell_type": "markdown",
   "metadata": {},
   "source": [
    "As we see on the charts, all our metrics are right-skewed.  \n",
    "We need use find the best way to reduce the skewness, out of log, square root, cubic root, boxcox"
   ]
  },
  {
   "cell_type": "code",
   "execution_count": 42,
   "metadata": {},
   "outputs": [],
   "source": [
    "# from scipy import stats\n",
    "def analyze_skewness(x):\n",
    "    fig, ax = plt.subplots (2, 2, figsize = (5,5))\n",
    "    sns.distplot(df_RFM[x], ax=ax[0,0])\n",
    "    sns.distplot(np.log(df_RFM[x]), ax=ax[0,1])\n",
    "    sns.distplot(np.sqrt(df_RFM[x]), ax=ax[1,0])\n",
    "    sns.distplot(stats.boxcox(df_RFM[x])[0], ax=ax[1,1])\n",
    "    plt.tight_layout()\n",
    "    plt.show()\n",
    "    print(df_RFM[x].skew().round(2), end='   ')\n",
    "    print(np.log(df_RFM[x]).skew().round(2), end='\\n\\n')\n",
    "    print(np.sqrt(df_RFM[x]).skew().round(2), end='   ')\n",
    "    print(pd.Series(stats.boxcox(df_RFM[x])[0]).skew().round(2))"
   ]
  },
  {
   "cell_type": "code",
   "execution_count": 43,
   "metadata": {},
   "outputs": [
    {
     "data": {
      "image/png": "[encoded data removed]",
      "text/plain": [
       "<Figure size 360x360 with 4 Axes>"
      ]
     },
     "metadata": {
      "needs_background": "light"
     },
     "output_type": "display_data"
    },
    {
     "name": "stdout",
     "output_type": "stream",
     "text": [
      "1.26   -0.44\n",
      "\n",
      "0.61   -0.06\n"
     ]
    }
   ],
   "source": [
    "analyze_skewness('Recency')"
   ]
  },
  {
   "cell_type": "code",
   "execution_count": 44,
   "metadata": {},
   "outputs": [
    {
     "data": {
      "image/png": "[encoded data removed]",
      "text/plain": [
       "<Figure size 360x360 with 4 Axes>"
      ]
     },
     "metadata": {
      "needs_background": "light"
     },
     "output_type": "display_data"
    },
    {
     "name": "stdout",
     "output_type": "stream",
     "text": [
      "11.61   0.69\n",
      "\n",
      "2.91   0.11\n"
     ]
    }
   ],
   "source": [
    "analyze_skewness('Frequency')"
   ]
  },
  {
   "cell_type": "markdown",
   "metadata": {},
   "source": [
    "For both Recency and Frequency, boxcox method have the best results with skewness very close to 0"
   ]
  },
  {
   "cell_type": "markdown",
   "metadata": {},
   "source": [
    "For Monetary, we use cubic root because it's values are float and can not apply above method"
   ]
  },
  {
   "cell_type": "code",
   "execution_count": 45,
   "metadata": {},
   "outputs": [
    {
     "name": "stdout",
     "output_type": "stream",
     "text": [
      "Cubic root skewness score: 1.1418739951463253\n",
      "Square root skewness score: 1.6778301773488369\n"
     ]
    }
   ],
   "source": [
    "print('Cubic root skewness score: {}'.format(np.cbrt(df_RFM.Monetary).skew()))\n",
    "print('Square root skewness score: {}'.format(np.sqrt(df_RFM.Monetary).skew()))"
   ]
  },
  {
   "cell_type": "markdown",
   "metadata": {},
   "source": [
    "Now, we apply the transformation"
   ]
  },
  {
   "cell_type": "code",
   "execution_count": 46,
   "metadata": {},
   "outputs": [],
   "source": [
    "df_t = df_RFM.copy()\n",
    "df_t['Recency'] = stats.boxcox(df_RFM.Recency)[0]\n",
    "df_t['Frequency'] = stats.boxcox(df_RFM.Frequency)[0]\n",
    "df_t['Monetary'] = pd.Series(np.cbrt(df_RFM.Monetary))"
   ]
  },
  {
   "cell_type": "markdown",
   "metadata": {},
   "source": [
    "### 3.2 Data Normalization\n",
    "<a id=\"data_normalization\"></a>"
   ]
  },
  {
   "cell_type": "markdown",
   "metadata": {},
   "source": [
    "Use StandardScaler to normalize data"
   ]
  },
  {
   "cell_type": "code",
   "execution_count": 47,
   "metadata": {},
   "outputs": [],
   "source": [
    "scaler = StandardScaler()\n",
    "X = scaler.fit_transform(df_t[['Recency', 'Frequency', 'Monetary']])"
   ]
  },
  {
   "cell_type": "markdown",
   "metadata": {},
   "source": [
    "### 3.3 Data Modeling\n",
    "<a id=\"data_modeling\"></a>"
   ]
  },
  {
   "cell_type": "markdown",
   "metadata": {},
   "source": [
    "Using elbow method to find the best number_of_cluster for KMeans model"
   ]
  },
  {
   "cell_type": "code",
   "execution_count": 48,
   "metadata": {},
   "outputs": [
    {
     "data": {
      "image/png": "[encoded data removed]",
      "text/plain": [
       "<Figure size 864x486 with 1 Axes>"
      ]
     },
     "metadata": {
      "needs_background": "light"
     },
     "output_type": "display_data"
    }
   ],
   "source": [
    "sse = {}\n",
    "for k in range(2, 11):\n",
    "    kmeans = KMeans(n_clusters=k, random_state=42)\n",
    "    kmeans.fit(X)\n",
    "    sse[k] = kmeans.inertia_\n",
    "plt.title('The Elbow Method')\n",
    "plt.xlabel ('k')\n",
    "plt.ylabel ('SSE')\n",
    "sns.pointplot (x=list(sse.keys()), y=list(sse.values()))\n",
    "plt.show()"
   ]
  },
  {
   "cell_type": "markdown",
   "metadata": {},
   "source": [
    "Let's choose k=5"
   ]
  },
  {
   "cell_type": "code",
   "execution_count": 49,
   "metadata": {},
   "outputs": [
    {
     "data": {
      "text/plain": [
       "array([0, 1, 3, ..., 4, 2, 3])"
      ]
     },
     "execution_count": 49,
     "metadata": {},
     "output_type": "execute_result"
    }
   ],
   "source": [
    "KMs = KMeans(n_clusters=5, random_state=27)\n",
    "KMs.fit_transform(X)\n",
    "KMs.labels_"
   ]
  },
  {
   "cell_type": "code",
   "execution_count": 50,
   "metadata": {},
   "outputs": [
    {
     "data": {
      "text/plain": [
       "0.33627214417573004"
      ]
     },
     "execution_count": 50,
     "metadata": {},
     "output_type": "execute_result"
    }
   ],
   "source": [
    "df_RFM['Cluster'] = KMs.labels_\n",
    "silhouette_score(X, KMs.labels_)"
   ]
  },
  {
   "cell_type": "markdown",
   "metadata": {},
   "source": [
    "Basic statistics of each cluster:"
   ]
  },
  {
   "cell_type": "code",
   "execution_count": 51,
   "metadata": {},
   "outputs": [
    {
     "data": {
      "text/html": [
       "<div>\n",
       "<style scoped>\n",
       "    .dataframe tbody tr th:only-of-type {\n",
       "        vertical-align: middle;\n",
       "    }\n",
       "\n",
       "    .dataframe tbody tr th {\n",
       "        vertical-align: top;\n",
       "    }\n",
       "\n",
       "    .dataframe thead tr th {\n",
       "        text-align: left;\n",
       "    }\n",
       "\n",
       "    .dataframe thead tr:last-of-type th {\n",
       "        text-align: right;\n",
       "    }\n",
       "</style>\n",
       "<table border=\"1\" class=\"dataframe\">\n",
       "  <thead>\n",
       "    <tr>\n",
       "      <th></th>\n",
       "      <th colspan=\"5\" halign=\"left\">Recency</th>\n",
       "      <th colspan=\"5\" halign=\"left\">Frequency</th>\n",
       "      <th colspan=\"5\" halign=\"left\">Monetary</th>\n",
       "    </tr>\n",
       "    <tr>\n",
       "      <th></th>\n",
       "      <th>mean</th>\n",
       "      <th>min</th>\n",
       "      <th>max</th>\n",
       "      <th>std</th>\n",
       "      <th>median</th>\n",
       "      <th>mean</th>\n",
       "      <th>min</th>\n",
       "      <th>max</th>\n",
       "      <th>std</th>\n",
       "      <th>median</th>\n",
       "      <th>mean</th>\n",
       "      <th>min</th>\n",
       "      <th>max</th>\n",
       "      <th>std</th>\n",
       "      <th>median</th>\n",
       "    </tr>\n",
       "    <tr>\n",
       "      <th>Cluster</th>\n",
       "      <th></th>\n",
       "      <th></th>\n",
       "      <th></th>\n",
       "      <th></th>\n",
       "      <th></th>\n",
       "      <th></th>\n",
       "      <th></th>\n",
       "      <th></th>\n",
       "      <th></th>\n",
       "      <th></th>\n",
       "      <th></th>\n",
       "      <th></th>\n",
       "      <th></th>\n",
       "      <th></th>\n",
       "      <th></th>\n",
       "    </tr>\n",
       "  </thead>\n",
       "  <tbody>\n",
       "    <tr>\n",
       "      <th>0</th>\n",
       "      <td>237.82</td>\n",
       "      <td>82</td>\n",
       "      <td>374</td>\n",
       "      <td>79.72</td>\n",
       "      <td>241.0</td>\n",
       "      <td>1.24</td>\n",
       "      <td>1</td>\n",
       "      <td>3</td>\n",
       "      <td>0.46</td>\n",
       "      <td>1.0</td>\n",
       "      <td>285.32</td>\n",
       "      <td>3.75</td>\n",
       "      <td>2349.60</td>\n",
       "      <td>238.36</td>\n",
       "      <td>225.37</td>\n",
       "    </tr>\n",
       "    <tr>\n",
       "      <th>1</th>\n",
       "      <td>15.48</td>\n",
       "      <td>1</td>\n",
       "      <td>303</td>\n",
       "      <td>24.80</td>\n",
       "      <td>9.0</td>\n",
       "      <td>20.21</td>\n",
       "      <td>4</td>\n",
       "      <td>246</td>\n",
       "      <td>21.66</td>\n",
       "      <td>15.0</td>\n",
       "      <td>6125.96</td>\n",
       "      <td>2499.57</td>\n",
       "      <td>12711.74</td>\n",
       "      <td>3088.19</td>\n",
       "      <td>4913.54</td>\n",
       "    </tr>\n",
       "    <tr>\n",
       "      <th>2</th>\n",
       "      <td>17.59</td>\n",
       "      <td>1</td>\n",
       "      <td>81</td>\n",
       "      <td>13.12</td>\n",
       "      <td>15.5</td>\n",
       "      <td>6.05</td>\n",
       "      <td>1</td>\n",
       "      <td>39</td>\n",
       "      <td>3.17</td>\n",
       "      <td>5.0</td>\n",
       "      <td>1510.18</td>\n",
       "      <td>95.40</td>\n",
       "      <td>5774.35</td>\n",
       "      <td>764.91</td>\n",
       "      <td>1368.79</td>\n",
       "    </tr>\n",
       "    <tr>\n",
       "      <th>3</th>\n",
       "      <td>107.38</td>\n",
       "      <td>27</td>\n",
       "      <td>367</td>\n",
       "      <td>63.25</td>\n",
       "      <td>86.0</td>\n",
       "      <td>3.83</td>\n",
       "      <td>1</td>\n",
       "      <td>20</td>\n",
       "      <td>1.94</td>\n",
       "      <td>3.0</td>\n",
       "      <td>1037.16</td>\n",
       "      <td>70.02</td>\n",
       "      <td>5930.32</td>\n",
       "      <td>720.48</td>\n",
       "      <td>815.97</td>\n",
       "    </tr>\n",
       "    <tr>\n",
       "      <th>4</th>\n",
       "      <td>38.79</td>\n",
       "      <td>1</td>\n",
       "      <td>95</td>\n",
       "      <td>23.30</td>\n",
       "      <td>35.0</td>\n",
       "      <td>1.42</td>\n",
       "      <td>1</td>\n",
       "      <td>4</td>\n",
       "      <td>0.55</td>\n",
       "      <td>1.0</td>\n",
       "      <td>346.03</td>\n",
       "      <td>0.00</td>\n",
       "      <td>1600.00</td>\n",
       "      <td>231.78</td>\n",
       "      <td>298.40</td>\n",
       "    </tr>\n",
       "  </tbody>\n",
       "</table>\n",
       "</div>"
      ],
      "text/plain": [
       "        Recency                        Frequency                         \\\n",
       "           mean min  max    std median      mean min  max    std median   \n",
       "Cluster                                                                   \n",
       "0        237.82  82  374  79.72  241.0      1.24   1    3   0.46    1.0   \n",
       "1         15.48   1  303  24.80    9.0     20.21   4  246  21.66   15.0   \n",
       "2         17.59   1   81  13.12   15.5      6.05   1   39   3.17    5.0   \n",
       "3        107.38  27  367  63.25   86.0      3.83   1   20   1.94    3.0   \n",
       "4         38.79   1   95  23.30   35.0      1.42   1    4   0.55    1.0   \n",
       "\n",
       "        Monetary                                       \n",
       "            mean      min       max      std   median  \n",
       "Cluster                                                \n",
       "0         285.32     3.75   2349.60   238.36   225.37  \n",
       "1        6125.96  2499.57  12711.74  3088.19  4913.54  \n",
       "2        1510.18    95.40   5774.35   764.91  1368.79  \n",
       "3        1037.16    70.02   5930.32   720.48   815.97  \n",
       "4         346.03     0.00   1600.00   231.78   298.40  "
      ]
     },
     "execution_count": 51,
     "metadata": {},
     "output_type": "execute_result"
    }
   ],
   "source": [
    "df_RFM.iloc[:,1:].groupby('Cluster').agg({'mean','std','min','median','max'}).round(2)"
   ]
  },
  {
   "cell_type": "code",
   "execution_count": 52,
   "metadata": {},
   "outputs": [
    {
     "data": {
      "image/png": "[encoded data removed]",
      "text/plain": [
       "<Figure size 864x486 with 1 Axes>"
      ]
     },
     "metadata": {
      "needs_background": "light"
     },
     "output_type": "display_data"
    }
   ],
   "source": [
    "ax = sns.countplot(data=df_RFM, x='Cluster', palette='Blues')\n",
    "ax.bar_label(ax.containers[0])\n",
    "plt.title('Number of Customer by Cluster', size=14)\n",
    "plt.show()"
   ]
  },
  {
   "cell_type": "markdown",
   "metadata": {},
   "source": [
    "Visualize clusters with a sample of 500 entries"
   ]
  },
  {
   "cell_type": "code",
   "execution_count": 53,
   "metadata": {},
   "outputs": [
    {
     "data": {
      "application/vnd.plotly.v1+json": {
       "config": {
        "linkText": "Export to plot.ly",
        "plotlyServerURL": "https://plot.ly",
        "showLink": false
       },
       "data": [
        {
         "marker": {
          "color": [
           3,
           4,
           4,
           4,
           2,
           2,
           3,
           3,
           4,
           3,
           4,
           4,
           4,
           2,
           4,
           0,
           0,
           0,
           3,
           3,
           0,
           4,
           0,
           4,
           1,
           0,
           2,
           4,
           4,
           2,
           0,
           3,
           0,
           3,
           3,
           1,
           1,
           0,
           2,
           3,
           4,
           3,
           3,
           0,
           0,
           4,
           2,
           0,
           2,
           2,
           1,
           2,
           4,
           4,
           2,
           0,
           2,
           4,
           2,
           3,
           3,
           2,
           2,
           2,
           1,
           0,
           1,
           1,
           2,
           1,
           2,
           2,
           2,
           2,
           1,
           0,
           4,
           0,
           3,
           2,
           4,
           1,
           4,
           4,
           3,
           4,
           0,
           2,
           3,
           2,
           3,
           3,
           0,
           1,
           1,
           3,
           2,
           0,
           1,
           4,
           1,
           4,
           2,
           3,
           4,
           0,
           4,
           4,
           0,
           0,
           2,
           3,
           2,
           0,
           3,
           3,
           3,
           0,
           4,
           1,
           4,
           3,
           0,
           2,
           3,
           2,
           3,
           4,
           3,
           2,
           0,
           2,
           3,
           1,
           3,
           2,
           0,
           3,
           4,
           2,
           2,
           1,
           3,
           4,
           3,
           3,
           1,
           3,
           2,
           0,
           0,
           4,
           0,
           0,
           2,
           4,
           0,
           3,
           3,
           4,
           2,
           4,
           2,
           3,
           4,
           2,
           3,
           4,
           0,
           4,
           2,
           4,
           2,
           0,
           3,
           0,
           4,
           3,
           2,
           0,
           0,
           3,
           2,
           2,
           4,
           4,
           3,
           4,
           1,
           3,
           2,
           3,
           3,
           0,
           0,
           3,
           3,
           1,
           3,
           2,
           2,
           3,
           0,
           3,
           4,
           0,
           0,
           3,
           4,
           1,
           4,
           2,
           2,
           0,
           2,
           2,
           2,
           2,
           3,
           2,
           4,
           4,
           1,
           3,
           2,
           0,
           1,
           1,
           1,
           4,
           3,
           2,
           4,
           3,
           3,
           3,
           2,
           0,
           3,
           1,
           4,
           0,
           1,
           4,
           0,
           2,
           2,
           2,
           2,
           2,
           4,
           2,
           0,
           2,
           0,
           2,
           3,
           2,
           1,
           0,
           4,
           3,
           0,
           1,
           0,
           0,
           3,
           0,
           3,
           1,
           3,
           3,
           3,
           0,
           0,
           3,
           3,
           0,
           3,
           3,
           0,
           2,
           2,
           4,
           3,
           3,
           4,
           0,
           3,
           4,
           2,
           0,
           3,
           0,
           3,
           4,
           3,
           0,
           3,
           2,
           0,
           4,
           2,
           1,
           1,
           4,
           3,
           0,
           1,
           0,
           1,
           1,
           0,
           3,
           1,
           4,
           3,
           0,
           2,
           0,
           4,
           2,
           4,
           2,
           3,
           0,
           3,
           4,
           2,
           2,
           0,
           3,
           2,
           3,
           3,
           2,
           4,
           0,
           1,
           4,
           2,
           2,
           3,
           3,
           0,
           0,
           4,
           2,
           3,
           3,
           4,
           1,
           2,
           2,
           4,
           0,
           1,
           1,
           0,
           4,
           4,
           1,
           3,
           0,
           0,
           4,
           3,
           3,
           4,
           4,
           4,
           0,
           0,
           0,
           0,
           0,
           0,
           2,
           3,
           0,
           2,
           0,
           3,
           0,
           3,
           0,
           4,
           3,
           2,
           1,
           4,
           3,
           3,
           4,
           2,
           2,
           4,
           3,
           1,
           3,
           4,
           4,
           2,
           2,
           1,
           3,
           2,
           3,
           2,
           3,
           2,
           4,
           0,
           0,
           4,
           4,
           4,
           0,
           0,
           0,
           0,
           0,
           4,
           2,
           4,
           0,
           2,
           3,
           3,
           4,
           2,
           1,
           2,
           3,
           4,
           4,
           1,
           2,
           1,
           3,
           1,
           0,
           2,
           3,
           3,
           0,
           0,
           3,
           2,
           0,
           2,
           1,
           4,
           1,
           2,
           1,
           1,
           4,
           3,
           3,
           0,
           2,
           4,
           3,
           3,
           1,
           4,
           1,
           2,
           4,
           4,
           3,
           4,
           3,
           0,
           0,
           0,
           3,
           3,
           3,
           3,
           1,
           1,
           0,
           2,
           4,
           2,
           2,
           1,
           4,
           2,
           4,
           0,
           2,
           4,
           4,
           3,
           2,
           2,
           4
          ],
          "line": {
           "color": [
            3,
            4,
            4,
            4,
            2,
            2,
            3,
            3,
            4,
            3,
            4,
            4,
            4,
            2,
            4,
            0,
            0,
            0,
            3,
            3,
            0,
            4,
            0,
            4,
            1,
            0,
            2,
            4,
            4,
            2,
            0,
            3,
            0,
            3,
            3,
            1,
            1,
            0,
            2,
            3,
            4,
            3,
            3,
            0,
            0,
            4,
            2,
            0,
            2,
            2,
            1,
            2,
            4,
            4,
            2,
            0,
            2,
            4,
            2,
            3,
            3,
            2,
            2,
            2,
            1,
            0,
            1,
            1,
            2,
            1,
            2,
            2,
            2,
            2,
            1,
            0,
            4,
            0,
            3,
            2,
            4,
            1,
            4,
            4,
            3,
            4,
            0,
            2,
            3,
            2,
            3,
            3,
            0,
            1,
            1,
            3,
            2,
            0,
            1,
            4,
            1,
            4,
            2,
            3,
            4,
            0,
            4,
            4,
            0,
            0,
            2,
            3,
            2,
            0,
            3,
            3,
            3,
            0,
            4,
            1,
            4,
            3,
            0,
            2,
            3,
            2,
            3,
            4,
            3,
            2,
            0,
            2,
            3,
            1,
            3,
            2,
            0,
            3,
            4,
            2,
            2,
            1,
            3,
            4,
            3,
            3,
            1,
            3,
            2,
            0,
            0,
            4,
            0,
            0,
            2,
            4,
            0,
            3,
            3,
            4,
            2,
            4,
            2,
            3,
            4,
            2,
            3,
            4,
            0,
            4,
            2,
            4,
            2,
            0,
            3,
            0,
            4,
            3,
            2,
            0,
            0,
            3,
            2,
            2,
            4,
            4,
            3,
            4,
            1,
            3,
            2,
            3,
            3,
            0,
            0,
            3,
            3,
            1,
            3,
            2,
            2,
            3,
            0,
            3,
            4,
            0,
            0,
            3,
            4,
            1,
            4,
            2,
            2,
            0,
            2,
            2,
            2,
            2,
            3,
            2,
            4,
            4,
            1,
            3,
            2,
            0,
            1,
            1,
            1,
            4,
            3,
            2,
            4,
            3,
            3,
            3,
            2,
            0,
            3,
            1,
            4,
            0,
            1,
            4,
            0,
            2,
            2,
            2,
            2,
            2,
            4,
            2,
            0,
            2,
            0,
            2,
            3,
            2,
            1,
            0,
            4,
            3,
            0,
            1,
            0,
            0,
            3,
            0,
            3,
            1,
            3,
            3,
            3,
            0,
            0,
            3,
            3,
            0,
            3,
            3,
            0,
            2,
            2,
            4,
            3,
            3,
            4,
            0,
            3,
            4,
            2,
            0,
            3,
            0,
            3,
            4,
            3,
            0,
            3,
            2,
            0,
            4,
            2,
            1,
            1,
            4,
            3,
            0,
            1,
            0,
            1,
            1,
            0,
            3,
            1,
            4,
            3,
            0,
            2,
            0,
            4,
            2,
            4,
            2,
            3,
            0,
            3,
            4,
            2,
            2,
            0,
            3,
            2,
            3,
            3,
            2,
            4,
            0,
            1,
            4,
            2,
            2,
            3,
            3,
            0,
            0,
            4,
            2,
            3,
            3,
            4,
            1,
            2,
            2,
            4,
            0,
            1,
            1,
            0,
            4,
            4,
            1,
            3,
            0,
            0,
            4,
            3,
            3,
            4,
            4,
            4,
            0,
            0,
            0,
            0,
            0,
            0,
            2,
            3,
            0,
            2,
            0,
            3,
            0,
            3,
            0,
            4,
            3,
            2,
            1,
            4,
            3,
            3,
            4,
            2,
            2,
            4,
            3,
            1,
            3,
            4,
            4,
            2,
            2,
            1,
            3,
            2,
            3,
            2,
            3,
            2,
            4,
            0,
            0,
            4,
            4,
            4,
            0,
            0,
            0,
            0,
            0,
            4,
            2,
            4,
            0,
            2,
            3,
            3,
            4,
            2,
            1,
            2,
            3,
            4,
            4,
            1,
            2,
            1,
            3,
            1,
            0,
            2,
            3,
            3,
            0,
            0,
            3,
            2,
            0,
            2,
            1,
            4,
            1,
            2,
            1,
            1,
            4,
            3,
            3,
            0,
            2,
            4,
            3,
            3,
            1,
            4,
            1,
            2,
            4,
            4,
            3,
            4,
            3,
            0,
            0,
            0,
            3,
            3,
            3,
            3,
            1,
            1,
            0,
            2,
            4,
            2,
            2,
            1,
            4,
            2,
            4,
            0,
            2,
            4,
            4,
            3,
            2,
            2,
            4
           ],
           "width": 12
          },
          "opacity": 0.8,
          "size": 3
         },
         "mode": "markers",
         "type": "scatter3d",
         "x": [
          109,
          39,
          8,
          51,
          43,
          17,
          67,
          141,
          34,
          51,
          79,
          6,
          72,
          16,
          34,
          352,
          239,
          253,
          36,
          257,
          373,
          36,
          267,
          24,
          5,
          240,
          4,
          73,
          5,
          24,
          265,
          90,
          240,
          41,
          177,
          23,
          12,
          170,
          5,
          76,
          51,
          135,
          95,
          365,
          130,
          38,
          15,
          367,
          12,
          5,
          9,
          8,
          60,
          68,
          11,
          160,
          16,
          40,
          3,
          76,
          72,
          9,
          3,
          22,
          8,
          324,
          10,
          22,
          4,
          5,
          15,
          40,
          2,
          4,
          4,
          121,
          30,
          305,
          144,
          24,
          44,
          8,
          43,
          54,
          33,
          16,
          359,
          22,
          76,
          32,
          51,
          164,
          227,
          2,
          10,
          104,
          36,
          195,
          20,
          65,
          3,
          3,
          32,
          61,
          4,
          134,
          26,
          26,
          151,
          265,
          20,
          159,
          33,
          239,
          108,
          207,
          61,
          335,
          34,
          2,
          32,
          73,
          240,
          9,
          40,
          12,
          41,
          90,
          82,
          23,
          374,
          65,
          197,
          6,
          68,
          11,
          218,
          39,
          8,
          9,
          52,
          10,
          109,
          78,
          253,
          52,
          8,
          195,
          16,
          261,
          289,
          41,
          178,
          205,
          30,
          39,
          277,
          29,
          41,
          58,
          8,
          52,
          24,
          86,
          78,
          27,
          151,
          88,
          90,
          54,
          9,
          39,
          4,
          253,
          58,
          340,
          76,
          158,
          30,
          320,
          156,
          101,
          30,
          11,
          54,
          62,
          75,
          37,
          2,
          115,
          24,
          65,
          169,
          200,
          164,
          219,
          79,
          9,
          142,
          10,
          29,
          138,
          277,
          74,
          30,
          180,
          239,
          202,
          46,
          9,
          41,
          6,
          3,
          334,
          15,
          4,
          29,
          11,
          45,
          10,
          33,
          16,
          9,
          155,
          22,
          372,
          11,
          1,
          9,
          12,
          45,
          8,
          47,
          153,
          53,
          86,
          16,
          107,
          36,
          10,
          67,
          144,
          5,
          19,
          369,
          19,
          9,
          13,
          8,
          17,
          23,
          33,
          250,
          4,
          365,
          3,
          88,
          16,
          11,
          274,
          12,
          79,
          193,
          32,
          265,
          128,
          39,
          120,
          53,
          90,
          167,
          169,
          204,
          260,
          170,
          97,
          58,
          113,
          235,
          311,
          298,
          32,
          2,
          23,
          136,
          53,
          76,
          143,
          50,
          27,
          50,
          139,
          110,
          374,
          61,
          65,
          73,
          158,
          163,
          11,
          156,
          33,
          40,
          8,
          58,
          4,
          100,
          179,
          17,
          172,
          18,
          23,
          149,
          36,
          26,
          8,
          38,
          323,
          13,
          244,
          10,
          43,
          16,
          24,
          68,
          255,
          79,
          8,
          18,
          8,
          209,
          44,
          23,
          109,
          101,
          5,
          94,
          165,
          1,
          51,
          8,
          18,
          74,
          95,
          221,
          215,
          46,
          34,
          198,
          71,
          24,
          9,
          18,
          26,
          12,
          275,
          3,
          32,
          162,
          46,
          10,
          27,
          59,
          333,
          177,
          3,
          139,
          142,
          19,
          65,
          54,
          141,
          183,
          129,
          247,
          129,
          261,
          4,
          152,
          335,
          30,
          368,
          73,
          172,
          54,
          107,
          26,
          29,
          4,
          9,
          65,
          226,
          72,
          11,
          38,
          25,
          34,
          92,
          74,
          331,
          44,
          8,
          32,
          18,
          43,
          53,
          4,
          30,
          19,
          115,
          10,
          38,
          235,
          319,
          44,
          25,
          81,
          234,
          289,
          100,
          206,
          130,
          8,
          5,
          64,
          261,
          3,
          198,
          52,
          40,
          6,
          5,
          3,
          367,
          74,
          24,
          17,
          10,
          6,
          61,
          32,
          171,
          54,
          74,
          51,
          372,
          165,
          62,
          11,
          354,
          22,
          1,
          53,
          2,
          11,
          4,
          4,
          8,
          148,
          41,
          335,
          25,
          47,
          45,
          74,
          11,
          61,
          11,
          18,
          72,
          20,
          93,
          22,
          89,
          291,
          197,
          307,
          173,
          61,
          274,
          129,
          23,
          5,
          88,
          37,
          80,
          10,
          40,
          16,
          4,
          20,
          73,
          100,
          5,
          52,
          65,
          158,
          23,
          31,
          15
         ],
         "y": [
          3,
          1,
          2,
          2,
          10,
          3,
          5,
          4,
          2,
          3,
          1,
          1,
          1,
          6,
          1,
          1,
          2,
          1,
          3,
          5,
          1,
          1,
          3,
          1,
          20,
          2,
          4,
          1,
          2,
          14,
          1,
          3,
          2,
          5,
          5,
          14,
          20,
          2,
          10,
          2,
          2,
          2,
          2,
          1,
          1,
          1,
          12,
          1,
          5,
          10,
          6,
          4,
          2,
          1,
          3,
          2,
          3,
          1,
          4,
          3,
          3,
          10,
          4,
          4,
          20,
          2,
          14,
          12,
          8,
          20,
          4,
          8,
          4,
          4,
          10,
          1,
          1,
          1,
          11,
          4,
          2,
          4,
          1,
          1,
          2,
          2,
          1,
          7,
          4,
          6,
          3,
          5,
          1,
          14,
          11,
          5,
          4,
          1,
          21,
          1,
          11,
          1,
          6,
          3,
          2,
          1,
          2,
          1,
          2,
          1,
          3,
          4,
          4,
          1,
          3,
          4,
          3,
          2,
          1,
          27,
          1,
          4,
          1,
          6,
          3,
          4,
          2,
          1,
          3,
          4,
          2,
          11,
          3,
          33,
          3,
          5,
          1,
          3,
          1,
          12,
          7,
          9,
          6,
          1,
          4,
          2,
          23,
          2,
          4,
          1,
          1,
          1,
          1,
          2,
          7,
          1,
          1,
          3,
          2,
          1,
          23,
          1,
          4,
          3,
          2,
          5,
          4,
          1,
          1,
          1,
          13,
          2,
          3,
          1,
          3,
          1,
          1,
          4,
          5,
          1,
          1,
          3,
          5,
          6,
          1,
          1,
          2,
          1,
          5,
          3,
          3,
          2,
          2,
          1,
          1,
          5,
          3,
          17,
          2,
          3,
          7,
          5,
          2,
          5,
          1,
          1,
          2,
          3,
          2,
          50,
          1,
          4,
          4,
          1,
          8,
          3,
          6,
          4,
          4,
          4,
          2,
          1,
          16,
          5,
          3,
          1,
          11,
          27,
          7,
          1,
          5,
          7,
          1,
          4,
          3,
          6,
          5,
          1,
          4,
          5,
          1,
          1,
          31,
          1,
          1,
          4,
          10,
          4,
          7,
          3,
          2,
          3,
          1,
          5,
          1,
          4,
          7,
          4,
          10,
          2,
          2,
          4,
          1,
          15,
          1,
          2,
          3,
          2,
          8,
          16,
          3,
          2,
          3,
          1,
          1,
          4,
          4,
          1,
          4,
          3,
          1,
          10,
          7,
          1,
          2,
          2,
          2,
          2,
          3,
          1,
          6,
          2,
          3,
          1,
          5,
          2,
          2,
          1,
          2,
          4,
          2,
          2,
          11,
          22,
          11,
          1,
          2,
          2,
          14,
          2,
          14,
          13,
          1,
          3,
          18,
          2,
          4,
          2,
          9,
          1,
          1,
          7,
          2,
          3,
          9,
          2,
          11,
          1,
          7,
          11,
          1,
          3,
          5,
          8,
          8,
          4,
          2,
          1,
          24,
          1,
          4,
          4,
          3,
          4,
          2,
          1,
          1,
          5,
          3,
          3,
          2,
          14,
          5,
          12,
          1,
          1,
          43,
          22,
          1,
          1,
          2,
          9,
          5,
          1,
          2,
          1,
          4,
          5,
          2,
          1,
          1,
          2,
          1,
          1,
          1,
          2,
          1,
          3,
          2,
          1,
          8,
          1,
          5,
          1,
          3,
          1,
          2,
          3,
          16,
          18,
          2,
          3,
          4,
          2,
          5,
          11,
          2,
          2,
          12,
          6,
          2,
          2,
          9,
          7,
          17,
          3,
          4,
          3,
          5,
          4,
          7,
          2,
          1,
          1,
          1,
          1,
          1,
          1,
          1,
          1,
          1,
          2,
          1,
          3,
          1,
          1,
          9,
          4,
          2,
          1,
          9,
          10,
          3,
          4,
          2,
          2,
          17,
          4,
          9,
          2,
          16,
          1,
          6,
          2,
          4,
          1,
          2,
          3,
          4,
          1,
          6,
          11,
          1,
          29,
          3,
          53,
          16,
          1,
          2,
          3,
          1,
          3,
          1,
          5,
          4,
          26,
          1,
          13,
          3,
          1,
          1,
          3,
          1,
          2,
          2,
          1,
          2,
          8,
          3,
          2,
          3,
          12,
          17,
          1,
          7,
          1,
          2,
          8,
          35,
          2,
          5,
          1,
          2,
          6,
          1,
          1,
          3,
          3,
          8,
          2
         ],
         "z": [
          418.0999999999999,
          43.5,
          335.13000000000005,
          603.7099999999999,
          1571.43,
          1178.1200000000001,
          2055.51,
          2274.82,
          330.45000000000005,
          330.03000000000003,
          159,
          247.52,
          224.14000000000004,
          1767.53,
          134.46,
          172.24999999999997,
          514.15,
          85,
          1116.5700000000002,
          2716.6,
          127.08000000000001,
          328.15,
          192.5,
          444.68,
          10312.990000000002,
          381.9599999999999,
          671.77,
          248.61,
          239.76,
          2554.9700000000003,
          138.67999999999998,
          3851.58,
          416.64,
          677.69,
          1679.88,
          6394.1,
          12711.737199999996,
          291.05,
          2185.72,
          602.5100000000001,
          240.97,
          408.36,
          922.39,
          182.24999999999997,
          477.90999999999997,
          801.6300000000001,
          1686.29,
          401.25,
          488.70000000000005,
          1960.7199999999998,
          3763.3,
          456.78,
          432.06,
          1071.03,
          769.12,
          188.01999999999998,
          1796.0399999999997,
          301.32000000000005,
          658.5999999999999,
          884.14,
          1796.4800000000002,
          2668.74,
          979.11,
          507.28999999999996,
          8640.79,
          97.7,
          8847.34,
          3920.3899999999994,
          1761.8,
          8067.13,
          1676.0600000000002,
          2629.88,
          550.78,
          692.94,
          3484.85,
          252.1,
          288.14,
          79.2,
          1531.54,
          559.12,
          270.8,
          4412.99,
          219.39,
          896.9799999999999,
          1511.9500000000003,
          326.4,
          271.05,
          2462.38,
          1562.8400000000001,
          3518.0299999999997,
          598.83,
          1282.23,
          203.95,
          4588.04,
          5422.3,
          1364.6999999999998,
          1227.43,
          207.14999999999998,
          7675.63,
          282.45,
          3524.41,
          100,
          2656.13,
          555.89,
          178.96,
          520.8,
          68.84,
          139.56,
          363.2,
          113.5,
          582.6,
          578.9699999999999,
          1659.98,
          30.599999999999998,
          623.51,
          549.58,
          620.04,
          545.48,
          230.51000000000002,
          6228.83,
          603.7499999999999,
          2362.65,
          116.00999999999999,
          1826.21,
          650.4100000000001,
          650.4300000000001,
          1851.08,
          751.1999999999999,
          323.69,
          775.4600000000003,
          256.44000000000005,
          2613.8599999999997,
          1340.4199999999998,
          10703.51,
          2321.920000000001,
          1614.3099999999997,
          90.12,
          1381.2,
          174.36999999999998,
          2237.74,
          1766.4199999999998,
          7889.970000000001,
          2029.5800000000002,
          454.10999999999996,
          471.03,
          699.25,
          11061.560000000001,
          860.72,
          537.7400000000001,
          775.8499999999999,
          231.25000000000003,
          507.65999999999997,
          151.41999999999996,
          216.5,
          1522.2500000000002,
          151.3,
          108.5,
          568.61,
          1422.6199999999997,
          216.17000000000002,
          2158.07,
          38.45,
          1211.08,
          1100.8999999999999,
          165.72,
          971.22,
          1692.2299999999998,
          1600,
          103.3,
          131.94,
          2376.41,
          279.85999999999996,
          1937.25,
          136.8,
          575.4000000000001,
          168.3,
          193.39,
          1078.9600000000003,
          690.05,
          200.10000000000002,
          308.58,
          1200.6200000000001,
          2356.17,
          1058.06,
          161.93999999999997,
          169.79000000000002,
          605.1199999999999,
          147.34999999999997,
          3566.01,
          653.38,
          1391.6100000000001,
          666.38,
          885.1899999999999,
          135.93,
          110.92000000000002,
          1561.6100000000001,
          1126.8500000000001,
          3308.78,
          567.1999999999999,
          1333.6799999999998,
          2609.1,
          584.0500000000001,
          380.05,
          1674.6900000000003,
          373.24,
          58.08,
          491.3599999999999,
          566.9000000000001,
          179.33999999999997,
          12711.737199999996,
          542.73,
          2074.1099999999997,
          1388.81,
          332.41,
          1387.99,
          594.3599999999999,
          977.4000000000001,
          2381.04,
          701.69,
          878.4100000000001,
          398.84000000000003,
          738.9599999999998,
          5059,
          3910.81,
          1347.4999999999998,
          230.25000000000003,
          5229.889999999999,
          4096.9,
          3268.7,
          507.08,
          1125.0700000000002,
          2567.0600000000004,
          130.73999999999998,
          1865.19,
          173.74,
          967.63,
          1041.68,
          51.56,
          653.1300000000001,
          4700.860000000001,
          135.31,
          90,
          12711.737199999996,
          686.05,
          123.24,
          657.8499999999999,
          1904.0300000000002,
          1119.4900000000002,
          2370.34,
          428.57,
          846.15,
          2235.2999999999997,
          12.75,
          1334.4,
          203.10000000000002,
          1542.1399999999999,
          1801.8300000000004,
          1447.14,
          4154.639999999999,
          109.80000000000001,
          380.35,
          1277.8500000000001,
          139.35,
          6663.61,
          204.4,
          317.61999999999995,
          996.5200000000002,
          254.1,
          1085.22,
          4318.7699999999995,
          1012.44,
          2242.01,
          255.12,
          171.8,
          142.5,
          1225.4099999999999,
          1295.3,
          288.17999999999995,
          296.19,
          548.01,
          1000,
          2766.5,
          1947.5499999999997,
          161.2,
          752.6,
          747.4,
          309.04,
          325.7,
          488.20000000000005,
          155.24,
          2965.69,
          145.79000000000002,
          1405.78,
          487.6,
          1486.9,
          276.05,
          435.35999999999996,
          160.42000000000002,
          1446.7199999999993,
          1006.7999999999998,
          121,
          265.76000000000005,
          2306.1800000000003,
          4500,
          6105.139999999999,
          312.62,
          636.1399999999998,
          264.61999999999995,
          9187.09,
          369.0799999999999,
          3192.94,
          3999.4399999999996,
          309.4,
          1452.06,
          3988.7400000000002,
          389.28,
          773.99,
          888.53,
          1941.3600000000001,
          110.97000000000003,
          170.16,
          2742.72,
          460.64,
          692.2199999999999,
          690.3,
          383.34000000000003,
          1127.83,
          100,
          2108.2200000000003,
          1834.72,
          738,
          643.96,
          1309.1599999999999,
          2282.7700000000004,
          1803.2699999999998,
          781.78,
          128.5,
          51,
          8060.24,
          749.1,
          1313.1000000000001,
          501.11999999999995,
          789.8899999999999,
          1037.5900000000001,
          288.59999999999997,
          439.4,
          656.6300000000001,
          1767.6799999999998,
          267.1600000000001,
          939.3800000000002,
          106.69999999999999,
          4981.54,
          1515.8999999999999,
          1588.36,
          546.04,
          223.95,
          5698.629999999999,
          12711.737199999996,
          405.38,
          189.39999999999998,
          574.4200000000001,
          4023.45,
          589.15,
          344.13999999999993,
          120.90000000000002,
          194.42,
          3471.0600000000004,
          1292.75,
          260.67999999999995,
          233.76,
          165.04999999999998,
          160.35,
          149.89,
          208.65,
          100,
          69,
          40.5,
          392.01,
          1506.12,
          157.08999999999997,
          1710.03,
          289.35,
          1931.42,
          492.36000000000007,
          700.63,
          163.8,
          290.15999999999997,
          556.75,
          2094.88,
          6568.940000000001,
          384.45,
          342.6,
          1984.5500000000002,
          300.83,
          1098.4299999999998,
          2514.76,
          193.42000000000002,
          524.1499999999999,
          4036.43,
          277.5,
          328,
          584.0699999999999,
          1865.6800000000003,
          1408.18,
          10129.27,
          3049.88,
          522.38,
          538.7299999999999,
          1122.0900000000001,
          1487.18,
          1005.08,
          332.64000000000004,
          101.19,
          106.83,
          256.4,
          100,
          768.2400000000001,
          454.24,
          116.19999999999999,
          509.01000000000005,
          157.9,
          351.3199999999999,
          144,
          1625.97,
          6.2,
          335.32000000000005,
          2459.63,
          210.32,
          606.27,
          214.89999999999998,
          1806.62,
          6826.66,
          900,
          1638.6599999999999,
          216.7,
          148.86,
          4043.7600000000007,
          1260.27,
          3368.51,
          894.41,
          3126.4,
          114.56,
          3295.7599999999998,
          437.96000000000004,
          1777.7800000000002,
          39.75,
          365.29,
          480.9200000000001,
          635.0400000000001,
          378.70000000000005,
          592.4000000000001,
          3576.669999999999,
          281.20000000000005,
          8147.73,
          764.34,
          10281.66,
          2654.06,
          77.50000000000001,
          1043.46,
          895.13,
          114,
          740.79,
          225.57999999999998,
          579.24,
          659.62,
          10318.95,
          499.31999999999994,
          6745.42,
          834.99,
          243.56,
          307.0899999999999,
          379.35,
          153.92000000000002,
          1587.9800000000002,
          785.15,
          559.87,
          457.90999999999997,
          2607.7,
          3286.5000000000005,
          1145.5999999999997,
          428.67999999999995,
          3985.1800000000003,
          4204.1,
          96.6,
          1862.32,
          437.8399999999999,
          1052.75,
          3359.45,
          6218.84,
          525.24,
          793.72,
          1335.5,
          165,
          1843.7500000000005,
          337.03999999999996,
          508.58,
          363.58000000000004,
          659.6800000000001,
          578.97,
          467.0400000000001
         ]
        }
       ],
       "layout": {
        "scene": {
         "xaxis": {
          "title": {
           "text": "Recency"
          }
         },
         "yaxis": {
          "title": {
           "text": "Frequency"
          }
         },
         "zaxis": {
          "title": {
           "text": "Monetary"
          }
         }
        },
        "template": {
         "data": {
          "bar": [
           {
            "error_x": {
             "color": "#2a3f5f"
            },
            "error_y": {
             "color": "#2a3f5f"
            },
            "marker": {
             "line": {
              "color": "#E5ECF6",
              "width": 0.5
             },
             "pattern": {
              "fillmode": "overlay",
              "size": 10,
              "solidity": 0.2
             }
            },
            "type": "bar"
           }
          ],
          "barpolar": [
           {
            "marker": {
             "line": {
              "color": "#E5ECF6",
              "width": 0.5
             },
             "pattern": {
              "fillmode": "overlay",
              "size": 10,
              "solidity": 0.2
             }
            },
            "type": "barpolar"
           }
          ],
          "carpet": [
           {
            "aaxis": {
             "endlinecolor": "#2a3f5f",
             "gridcolor": "white",
             "linecolor": "white",
             "minorgridcolor": "white",
             "startlinecolor": "#2a3f5f"
            },
            "baxis": {
             "endlinecolor": "#2a3f5f",
             "gridcolor": "white",
             "linecolor": "white",
             "minorgridcolor": "white",
             "startlinecolor": "#2a3f5f"
            },
            "type": "carpet"
           }
          ],
          "choropleth": [
           {
            "colorbar": {
             "outlinewidth": 0,
             "ticks": ""
            },
            "type": "choropleth"
           }
          ],
          "contour": [
           {
            "colorbar": {
             "outlinewidth": 0,
             "ticks": ""
            },
            "colorscale": [
             [
              0,
              "#0d0887"
             ],
             [
              0.1111111111111111,
              "#46039f"
             ],
             [
              0.2222222222222222,
              "#7201a8"
             ],
             [
              0.3333333333333333,
              "#9c179e"
             ],
             [
              0.4444444444444444,
              "#bd3786"
             ],
             [
              0.5555555555555556,
              "#d8576b"
             ],
             [
              0.6666666666666666,
              "#ed7953"
             ],
             [
              0.7777777777777778,
              "#fb9f3a"
             ],
             [
              0.8888888888888888,
              "#fdca26"
             ],
             [
              1,
              "#f0f921"
             ]
            ],
            "type": "contour"
           }
          ],
          "contourcarpet": [
           {
            "colorbar": {
             "outlinewidth": 0,
             "ticks": ""
            },
            "type": "contourcarpet"
           }
          ],
          "heatmap": [
           {
            "colorbar": {
             "outlinewidth": 0,
             "ticks": ""
            },
            "colorscale": [
             [
              0,
              "#0d0887"
             ],
             [
              0.1111111111111111,
              "#46039f"
             ],
             [
              0.2222222222222222,
              "#7201a8"
             ],
             [
              0.3333333333333333,
              "#9c179e"
             ],
             [
              0.4444444444444444,
              "#bd3786"
             ],
             [
              0.5555555555555556,
              "#d8576b"
             ],
             [
              0.6666666666666666,
              "#ed7953"
             ],
             [
              0.7777777777777778,
              "#fb9f3a"
             ],
             [
              0.8888888888888888,
              "#fdca26"
             ],
             [
              1,
              "#f0f921"
             ]
            ],
            "type": "heatmap"
           }
          ],
          "heatmapgl": [
           {
            "colorbar": {
             "outlinewidth": 0,
             "ticks": ""
            },
            "colorscale": [
             [
              0,
              "#0d0887"
             ],
             [
              0.1111111111111111,
              "#46039f"
             ],
             [
              0.2222222222222222,
              "#7201a8"
             ],
             [
              0.3333333333333333,
              "#9c179e"
             ],
             [
              0.4444444444444444,
              "#bd3786"
             ],
             [
              0.5555555555555556,
              "#d8576b"
             ],
             [
              0.6666666666666666,
              "#ed7953"
             ],
             [
              0.7777777777777778,
              "#fb9f3a"
             ],
             [
              0.8888888888888888,
              "#fdca26"
             ],
             [
              1,
              "#f0f921"
             ]
            ],
            "type": "heatmapgl"
           }
          ],
          "histogram": [
           {
            "marker": {
             "pattern": {
              "fillmode": "overlay",
              "size": 10,
              "solidity": 0.2
             }
            },
            "type": "histogram"
           }
          ],
          "histogram2d": [
           {
            "colorbar": {
             "outlinewidth": 0,
             "ticks": ""
            },
            "colorscale": [
             [
              0,
              "#0d0887"
             ],
             [
              0.1111111111111111,
              "#46039f"
             ],
             [
              0.2222222222222222,
              "#7201a8"
             ],
             [
              0.3333333333333333,
              "#9c179e"
             ],
             [
              0.4444444444444444,
              "#bd3786"
             ],
             [
              0.5555555555555556,
              "#d8576b"
             ],
             [
              0.6666666666666666,
              "#ed7953"
             ],
             [
              0.7777777777777778,
              "#fb9f3a"
             ],
             [
              0.8888888888888888,
              "#fdca26"
             ],
             [
              1,
              "#f0f921"
             ]
            ],
            "type": "histogram2d"
           }
          ],
          "histogram2dcontour": [
           {
            "colorbar": {
             "outlinewidth": 0,
             "ticks": ""
            },
            "colorscale": [
             [
              0,
              "#0d0887"
             ],
             [
              0.1111111111111111,
              "#46039f"
             ],
             [
              0.2222222222222222,
              "#7201a8"
             ],
             [
              0.3333333333333333,
              "#9c179e"
             ],
             [
              0.4444444444444444,
              "#bd3786"
             ],
             [
              0.5555555555555556,
              "#d8576b"
             ],
             [
              0.6666666666666666,
              "#ed7953"
             ],
             [
              0.7777777777777778,
              "#fb9f3a"
             ],
             [
              0.8888888888888888,
              "#fdca26"
             ],
             [
              1,
              "#f0f921"
             ]
            ],
            "type": "histogram2dcontour"
           }
          ],
          "mesh3d": [
           {
            "colorbar": {
             "outlinewidth": 0,
             "ticks": ""
            },
            "type": "mesh3d"
           }
          ],
          "parcoords": [
           {
            "line": {
             "colorbar": {
              "outlinewidth": 0,
              "ticks": ""
             }
            },
            "type": "parcoords"
           }
          ],
          "pie": [
           {
            "automargin": true,
            "type": "pie"
           }
          ],
          "scatter": [
           {
            "marker": {
             "colorbar": {
              "outlinewidth": 0,
              "ticks": ""
             }
            },
            "type": "scatter"
           }
          ],
          "scatter3d": [
           {
            "line": {
             "colorbar": {
              "outlinewidth": 0,
              "ticks": ""
             }
            },
            "marker": {
             "colorbar": {
              "outlinewidth": 0,
              "ticks": ""
             }
            },
            "type": "scatter3d"
           }
          ],
          "scattercarpet": [
           {
            "marker": {
             "colorbar": {
              "outlinewidth": 0,
              "ticks": ""
             }
            },
            "type": "scattercarpet"
           }
          ],
          "scattergeo": [
           {
            "marker": {
             "colorbar": {
              "outlinewidth": 0,
              "ticks": ""
             }
            },
            "type": "scattergeo"
           }
          ],
          "scattergl": [
           {
            "marker": {
             "colorbar": {
              "outlinewidth": 0,
              "ticks": ""
             }
            },
            "type": "scattergl"
           }
          ],
          "scattermapbox": [
           {
            "marker": {
             "colorbar": {
              "outlinewidth": 0,
              "ticks": ""
             }
            },
            "type": "scattermapbox"
           }
          ],
          "scatterpolar": [
           {
            "marker": {
             "colorbar": {
              "outlinewidth": 0,
              "ticks": ""
             }
            },
            "type": "scatterpolar"
           }
          ],
          "scatterpolargl": [
           {
            "marker": {
             "colorbar": {
              "outlinewidth": 0,
              "ticks": ""
             }
            },
            "type": "scatterpolargl"
           }
          ],
          "scatterternary": [
           {
            "marker": {
             "colorbar": {
              "outlinewidth": 0,
              "ticks": ""
             }
            },
            "type": "scatterternary"
           }
          ],
          "surface": [
           {
            "colorbar": {
             "outlinewidth": 0,
             "ticks": ""
            },
            "colorscale": [
             [
              0,
              "#0d0887"
             ],
             [
              0.1111111111111111,
              "#46039f"
             ],
             [
              0.2222222222222222,
              "#7201a8"
             ],
             [
              0.3333333333333333,
              "#9c179e"
             ],
             [
              0.4444444444444444,
              "#bd3786"
             ],
             [
              0.5555555555555556,
              "#d8576b"
             ],
             [
              0.6666666666666666,
              "#ed7953"
             ],
             [
              0.7777777777777778,
              "#fb9f3a"
             ],
             [
              0.8888888888888888,
              "#fdca26"
             ],
             [
              1,
              "#f0f921"
             ]
            ],
            "type": "surface"
           }
          ],
          "table": [
           {
            "cells": {
             "fill": {
              "color": "#EBF0F8"
             },
             "line": {
              "color": "white"
             }
            },
            "header": {
             "fill": {
              "color": "#C8D4E3"
             },
             "line": {
              "color": "white"
             }
            },
            "type": "table"
           }
          ]
         },
         "layout": {
          "annotationdefaults": {
           "arrowcolor": "#2a3f5f",
           "arrowhead": 0,
           "arrowwidth": 1
          },
          "autotypenumbers": "strict",
          "coloraxis": {
           "colorbar": {
            "outlinewidth": 0,
            "ticks": ""
           }
          },
          "colorscale": {
           "diverging": [
            [
             0,
             "#8e0152"
            ],
            [
             0.1,
             "#c51b7d"
            ],
            [
             0.2,
             "#de77ae"
            ],
            [
             0.3,
             "#f1b6da"
            ],
            [
             0.4,
             "#fde0ef"
            ],
            [
             0.5,
             "#f7f7f7"
            ],
            [
             0.6,
             "#e6f5d0"
            ],
            [
             0.7,
             "#b8e186"
            ],
            [
             0.8,
             "#7fbc41"
            ],
            [
             0.9,
             "#4d9221"
            ],
            [
             1,
             "#276419"
            ]
           ],
           "sequential": [
            [
             0,
             "#0d0887"
            ],
            [
             0.1111111111111111,
             "#46039f"
            ],
            [
             0.2222222222222222,
             "#7201a8"
            ],
            [
             0.3333333333333333,
             "#9c179e"
            ],
            [
             0.4444444444444444,
             "#bd3786"
            ],
            [
             0.5555555555555556,
             "#d8576b"
            ],
            [
             0.6666666666666666,
             "#ed7953"
            ],
            [
             0.7777777777777778,
             "#fb9f3a"
            ],
            [
             0.8888888888888888,
             "#fdca26"
            ],
            [
             1,
             "#f0f921"
            ]
           ],
           "sequentialminus": [
            [
             0,
             "#0d0887"
            ],
            [
             0.1111111111111111,
             "#46039f"
            ],
            [
             0.2222222222222222,
             "#7201a8"
            ],
            [
             0.3333333333333333,
             "#9c179e"
            ],
            [
             0.4444444444444444,
             "#bd3786"
            ],
            [
             0.5555555555555556,
             "#d8576b"
            ],
            [
             0.6666666666666666,
             "#ed7953"
            ],
            [
             0.7777777777777778,
             "#fb9f3a"
            ],
            [
             0.8888888888888888,
             "#fdca26"
            ],
            [
             1,
             "#f0f921"
            ]
           ]
          },
          "colorway": [
           "#636efa",
           "#EF553B",
           "#00cc96",
           "#ab63fa",
           "#FFA15A",
           "#19d3f3",
           "#FF6692",
           "#B6E880",
           "#FF97FF",
           "#FECB52"
          ],
          "font": {
           "color": "#2a3f5f"
          },
          "geo": {
           "bgcolor": "white",
           "lakecolor": "white",
           "landcolor": "#E5ECF6",
           "showlakes": true,
           "showland": true,
           "subunitcolor": "white"
          },
          "hoverlabel": {
           "align": "left"
          },
          "hovermode": "closest",
          "mapbox": {
           "style": "light"
          },
          "paper_bgcolor": "white",
          "plot_bgcolor": "#E5ECF6",
          "polar": {
           "angularaxis": {
            "gridcolor": "white",
            "linecolor": "white",
            "ticks": ""
           },
           "bgcolor": "#E5ECF6",
           "radialaxis": {
            "gridcolor": "white",
            "linecolor": "white",
            "ticks": ""
           }
          },
          "scene": {
           "xaxis": {
            "backgroundcolor": "#E5ECF6",
            "gridcolor": "white",
            "gridwidth": 2,
            "linecolor": "white",
            "showbackground": true,
            "ticks": "",
            "zerolinecolor": "white"
           },
           "yaxis": {
            "backgroundcolor": "#E5ECF6",
            "gridcolor": "white",
            "gridwidth": 2,
            "linecolor": "white",
            "showbackground": true,
            "ticks": "",
            "zerolinecolor": "white"
           },
           "zaxis": {
            "backgroundcolor": "#E5ECF6",
            "gridcolor": "white",
            "gridwidth": 2,
            "linecolor": "white",
            "showbackground": true,
            "ticks": "",
            "zerolinecolor": "white"
           }
          },
          "shapedefaults": {
           "line": {
            "color": "#2a3f5f"
           }
          },
          "ternary": {
           "aaxis": {
            "gridcolor": "white",
            "linecolor": "white",
            "ticks": ""
           },
           "baxis": {
            "gridcolor": "white",
            "linecolor": "white",
            "ticks": ""
           },
           "bgcolor": "#E5ECF6",
           "caxis": {
            "gridcolor": "white",
            "linecolor": "white",
            "ticks": ""
           }
          },
          "title": {
           "x": 0.05
          },
          "xaxis": {
           "automargin": true,
           "gridcolor": "white",
           "linecolor": "white",
           "ticks": "",
           "title": {
            "standoff": 15
           },
           "zerolinecolor": "white",
           "zerolinewidth": 2
          },
          "yaxis": {
           "automargin": true,
           "gridcolor": "white",
           "linecolor": "white",
           "ticks": "",
           "title": {
            "standoff": 15
           },
           "zerolinecolor": "white",
           "zerolinewidth": 2
          }
         }
        },
        "title": {
         "text": "Clusters"
        }
       }
      },
      "text/html": [
       "<div>                            <div id=\"7be711b6-cd64-4066-9a34-4330b667a048\" class=\"plotly-graph-div\" style=\"height:525px; width:100%;\"></div>            <script type=\"text/javascript\">                require([\"plotly\"], function(Plotly) {                    window.PLOTLYENV=window.PLOTLYENV || {};                                    if (document.getElementById(\"7be711b6-cd64-4066-9a34-4330b667a048\")) {                    Plotly.newPlot(                        \"7be711b6-cd64-4066-9a34-4330b667a048\",                        [{\"marker\":{\"color\":[3,4,4,4,2,2,3,3,4,3,4,4,4,2,4,0,0,0,3,3,0,4,0,4,1,0,2,4,4,2,0,3,0,3,3,1,1,0,2,3,4,3,3,0,0,4,2,0,2,2,1,2,4,4,2,0,2,4,2,3,3,2,2,2,1,0,1,1,2,1,2,2,2,2,1,0,4,0,3,2,4,1,4,4,3,4,0,2,3,2,3,3,0,1,1,3,2,0,1,4,1,4,2,3,4,0,4,4,0,0,2,3,2,0,3,3,3,0,4,1,4,3,0,2,3,2,3,4,3,2,0,2,3,1,3,2,0,3,4,2,2,1,3,4,3,3,1,3,2,0,0,4,0,0,2,4,0,3,3,4,2,4,2,3,4,2,3,4,0,4,2,4,2,0,3,0,4,3,2,0,0,3,2,2,4,4,3,4,1,3,2,3,3,0,0,3,3,1,3,2,2,3,0,3,4,0,0,3,4,1,4,2,2,0,2,2,2,2,3,2,4,4,1,3,2,0,1,1,1,4,3,2,4,3,3,3,2,0,3,1,4,0,1,4,0,2,2,2,2,2,4,2,0,2,0,2,3,2,1,0,4,3,0,1,0,0,3,0,3,1,3,3,3,0,0,3,3,0,3,3,0,2,2,4,3,3,4,0,3,4,2,0,3,0,3,4,3,0,3,2,0,4,2,1,1,4,3,0,1,0,1,1,0,3,1,4,3,0,2,0,4,2,4,2,3,0,3,4,2,2,0,3,2,3,3,2,4,0,1,4,2,2,3,3,0,0,4,2,3,3,4,1,2,2,4,0,1,1,0,4,4,1,3,0,0,4,3,3,4,4,4,0,0,0,0,0,0,2,3,0,2,0,3,0,3,0,4,3,2,1,4,3,3,4,2,2,4,3,1,3,4,4,2,2,1,3,2,3,2,3,2,4,0,0,4,4,4,0,0,0,0,0,4,2,4,0,2,3,3,4,2,1,2,3,4,4,1,2,1,3,1,0,2,3,3,0,0,3,2,0,2,1,4,1,2,1,1,4,3,3,0,2,4,3,3,1,4,1,2,4,4,3,4,3,0,0,0,3,3,3,3,1,1,0,2,4,2,2,1,4,2,4,0,2,4,4,3,2,2,4],\"line\":{\"color\":[3,4,4,4,2,2,3,3,4,3,4,4,4,2,4,0,0,0,3,3,0,4,0,4,1,0,2,4,4,2,0,3,0,3,3,1,1,0,2,3,4,3,3,0,0,4,2,0,2,2,1,2,4,4,2,0,2,4,2,3,3,2,2,2,1,0,1,1,2,1,2,2,2,2,1,0,4,0,3,2,4,1,4,4,3,4,0,2,3,2,3,3,0,1,1,3,2,0,1,4,1,4,2,3,4,0,4,4,0,0,2,3,2,0,3,3,3,0,4,1,4,3,0,2,3,2,3,4,3,2,0,2,3,1,3,2,0,3,4,2,2,1,3,4,3,3,1,3,2,0,0,4,0,0,2,4,0,3,3,4,2,4,2,3,4,2,3,4,0,4,2,4,2,0,3,0,4,3,2,0,0,3,2,2,4,4,3,4,1,3,2,3,3,0,0,3,3,1,3,2,2,3,0,3,4,0,0,3,4,1,4,2,2,0,2,2,2,2,3,2,4,4,1,3,2,0,1,1,1,4,3,2,4,3,3,3,2,0,3,1,4,0,1,4,0,2,2,2,2,2,4,2,0,2,0,2,3,2,1,0,4,3,0,1,0,0,3,0,3,1,3,3,3,0,0,3,3,0,3,3,0,2,2,4,3,3,4,0,3,4,2,0,3,0,3,4,3,0,3,2,0,4,2,1,1,4,3,0,1,0,1,1,0,3,1,4,3,0,2,0,4,2,4,2,3,0,3,4,2,2,0,3,2,3,3,2,4,0,1,4,2,2,3,3,0,0,4,2,3,3,4,1,2,2,4,0,1,1,0,4,4,1,3,0,0,4,3,3,4,4,4,0,0,0,0,0,0,2,3,0,2,0,3,0,3,0,4,3,2,1,4,3,3,4,2,2,4,3,1,3,4,4,2,2,1,3,2,3,2,3,2,4,0,0,4,4,4,0,0,0,0,0,4,2,4,0,2,3,3,4,2,1,2,3,4,4,1,2,1,3,1,0,2,3,3,0,0,3,2,0,2,1,4,1,2,1,1,4,3,3,0,2,4,3,3,1,4,1,2,4,4,3,4,3,0,0,0,3,3,3,3,1,1,0,2,4,2,2,1,4,2,4,0,2,4,4,3,2,2,4],\"width\":12},\"opacity\":0.8,\"size\":3},\"mode\":\"markers\",\"type\":\"scatter3d\",\"x\":[109,39,8,51,43,17,67,141,34,51,79,6,72,16,34,352,239,253,36,257,373,36,267,24,5,240,4,73,5,24,265,90,240,41,177,23,12,170,5,76,51,135,95,365,130,38,15,367,12,5,9,8,60,68,11,160,16,40,3,76,72,9,3,22,8,324,10,22,4,5,15,40,2,4,4,121,30,305,144,24,44,8,43,54,33,16,359,22,76,32,51,164,227,2,10,104,36,195,20,65,3,3,32,61,4,134,26,26,151,265,20,159,33,239,108,207,61,335,34,2,32,73,240,9,40,12,41,90,82,23,374,65,197,6,68,11,218,39,8,9,52,10,109,78,253,52,8,195,16,261,289,41,178,205,30,39,277,29,41,58,8,52,24,86,78,27,151,88,90,54,9,39,4,253,58,340,76,158,30,320,156,101,30,11,54,62,75,37,2,115,24,65,169,200,164,219,79,9,142,10,29,138,277,74,30,180,239,202,46,9,41,6,3,334,15,4,29,11,45,10,33,16,9,155,22,372,11,1,9,12,45,8,47,153,53,86,16,107,36,10,67,144,5,19,369,19,9,13,8,17,23,33,250,4,365,3,88,16,11,274,12,79,193,32,265,128,39,120,53,90,167,169,204,260,170,97,58,113,235,311,298,32,2,23,136,53,76,143,50,27,50,139,110,374,61,65,73,158,163,11,156,33,40,8,58,4,100,179,17,172,18,23,149,36,26,8,38,323,13,244,10,43,16,24,68,255,79,8,18,8,209,44,23,109,101,5,94,165,1,51,8,18,74,95,221,215,46,34,198,71,24,9,18,26,12,275,3,32,162,46,10,27,59,333,177,3,139,142,19,65,54,141,183,129,247,129,261,4,152,335,30,368,73,172,54,107,26,29,4,9,65,226,72,11,38,25,34,92,74,331,44,8,32,18,43,53,4,30,19,115,10,38,235,319,44,25,81,234,289,100,206,130,8,5,64,261,3,198,52,40,6,5,3,367,74,24,17,10,6,61,32,171,54,74,51,372,165,62,11,354,22,1,53,2,11,4,4,8,148,41,335,25,47,45,74,11,61,11,18,72,20,93,22,89,291,197,307,173,61,274,129,23,5,88,37,80,10,40,16,4,20,73,100,5,52,65,158,23,31,15],\"y\":[3,1,2,2,10,3,5,4,2,3,1,1,1,6,1,1,2,1,3,5,1,1,3,1,20,2,4,1,2,14,1,3,2,5,5,14,20,2,10,2,2,2,2,1,1,1,12,1,5,10,6,4,2,1,3,2,3,1,4,3,3,10,4,4,20,2,14,12,8,20,4,8,4,4,10,1,1,1,11,4,2,4,1,1,2,2,1,7,4,6,3,5,1,14,11,5,4,1,21,1,11,1,6,3,2,1,2,1,2,1,3,4,4,1,3,4,3,2,1,27,1,4,1,6,3,4,2,1,3,4,2,11,3,33,3,5,1,3,1,12,7,9,6,1,4,2,23,2,4,1,1,1,1,2,7,1,1,3,2,1,23,1,4,3,2,5,4,1,1,1,13,2,3,1,3,1,1,4,5,1,1,3,5,6,1,1,2,1,5,3,3,2,2,1,1,5,3,17,2,3,7,5,2,5,1,1,2,3,2,50,1,4,4,1,8,3,6,4,4,4,2,1,16,5,3,1,11,27,7,1,5,7,1,4,3,6,5,1,4,5,1,1,31,1,1,4,10,4,7,3,2,3,1,5,1,4,7,4,10,2,2,4,1,15,1,2,3,2,8,16,3,2,3,1,1,4,4,1,4,3,1,10,7,1,2,2,2,2,3,1,6,2,3,1,5,2,2,1,2,4,2,2,11,22,11,1,2,2,14,2,14,13,1,3,18,2,4,2,9,1,1,7,2,3,9,2,11,1,7,11,1,3,5,8,8,4,2,1,24,1,4,4,3,4,2,1,1,5,3,3,2,14,5,12,1,1,43,22,1,1,2,9,5,1,2,1,4,5,2,1,1,2,1,1,1,2,1,3,2,1,8,1,5,1,3,1,2,3,16,18,2,3,4,2,5,11,2,2,12,6,2,2,9,7,17,3,4,3,5,4,7,2,1,1,1,1,1,1,1,1,1,2,1,3,1,1,9,4,2,1,9,10,3,4,2,2,17,4,9,2,16,1,6,2,4,1,2,3,4,1,6,11,1,29,3,53,16,1,2,3,1,3,1,5,4,26,1,13,3,1,1,3,1,2,2,1,2,8,3,2,3,12,17,1,7,1,2,8,35,2,5,1,2,6,1,1,3,3,8,2],\"z\":[418.0999999999999,43.5,335.13000000000005,603.7099999999999,1571.43,1178.1200000000001,2055.51,2274.82,330.45000000000005,330.03000000000003,159.0,247.52,224.14000000000004,1767.53,134.46,172.24999999999997,514.15,85.0,1116.5700000000002,2716.6,127.08000000000001,328.15,192.5,444.68,10312.990000000002,381.9599999999999,671.77,248.61,239.76,2554.9700000000003,138.67999999999998,3851.58,416.64,677.69,1679.88,6394.1,12711.737199999996,291.05,2185.72,602.5100000000001,240.97,408.36,922.39,182.24999999999997,477.90999999999997,801.6300000000001,1686.29,401.25,488.70000000000005,1960.7199999999998,3763.3,456.78,432.06,1071.03,769.12,188.01999999999998,1796.0399999999997,301.32000000000005,658.5999999999999,884.14,1796.4800000000002,2668.74,979.11,507.28999999999996,8640.79,97.7,8847.34,3920.3899999999994,1761.8,8067.13,1676.0600000000002,2629.88,550.78,692.94,3484.85,252.1,288.14,79.2,1531.54,559.12,270.8,4412.99,219.39,896.9799999999999,1511.9500000000003,326.4,271.05,2462.38,1562.8400000000001,3518.0299999999997,598.83,1282.23,203.95,4588.04,5422.3,1364.6999999999998,1227.43,207.14999999999998,7675.63,282.45,3524.41,100.0,2656.13,555.89,178.96,520.8,68.84,139.56,363.2,113.5,582.6,578.9699999999999,1659.98,30.599999999999998,623.51,549.58,620.04,545.48,230.51000000000002,6228.83,603.7499999999999,2362.65,116.00999999999999,1826.21,650.4100000000001,650.4300000000001,1851.08,751.1999999999999,323.69,775.4600000000003,256.44000000000005,2613.8599999999997,1340.4199999999998,10703.51,2321.920000000001,1614.3099999999997,90.12,1381.2,174.36999999999998,2237.74,1766.4199999999998,7889.970000000001,2029.5800000000002,454.10999999999996,471.03,699.25,11061.560000000001,860.72,537.7400000000001,775.8499999999999,231.25000000000003,507.65999999999997,151.41999999999996,216.5,1522.2500000000002,151.3,108.5,568.61,1422.6199999999997,216.17000000000002,2158.07,38.45,1211.08,1100.8999999999999,165.72,971.22,1692.2299999999998,1600.0,103.3,131.94,2376.41,279.85999999999996,1937.25,136.8,575.4000000000001,168.3,193.39,1078.9600000000003,690.05,200.10000000000002,308.58,1200.6200000000001,2356.17,1058.06,161.93999999999997,169.79000000000002,605.1199999999999,147.34999999999997,3566.01,653.38,1391.6100000000001,666.38,885.1899999999999,135.93,110.92000000000002,1561.6100000000001,1126.8500000000001,3308.78,567.1999999999999,1333.6799999999998,2609.1,584.0500000000001,380.05,1674.6900000000003,373.24,58.08,491.3599999999999,566.9000000000001,179.33999999999997,12711.737199999996,542.73,2074.1099999999997,1388.81,332.41,1387.99,594.3599999999999,977.4000000000001,2381.04,701.69,878.4100000000001,398.84000000000003,738.9599999999998,5059.0,3910.81,1347.4999999999998,230.25000000000003,5229.889999999999,4096.9,3268.7,507.08,1125.0700000000002,2567.0600000000004,130.73999999999998,1865.19,173.74,967.63,1041.68,51.56,653.1300000000001,4700.860000000001,135.31,90.0,12711.737199999996,686.05,123.24,657.8499999999999,1904.0300000000002,1119.4900000000002,2370.34,428.57,846.15,2235.2999999999997,12.75,1334.4,203.10000000000002,1542.1399999999999,1801.8300000000004,1447.14,4154.639999999999,109.80000000000001,380.35,1277.8500000000001,139.35,6663.61,204.4,317.61999999999995,996.5200000000002,254.1,1085.22,4318.7699999999995,1012.44,2242.01,255.12,171.8,142.5,1225.4099999999999,1295.3,288.17999999999995,296.19,548.01,1000.0,2766.5,1947.5499999999997,161.2,752.6,747.4,309.04,325.7,488.20000000000005,155.24,2965.69,145.79000000000002,1405.78,487.6,1486.9,276.05,435.35999999999996,160.42000000000002,1446.7199999999993,1006.7999999999998,121.0,265.76000000000005,2306.1800000000003,4500.0,6105.139999999999,312.62,636.1399999999998,264.61999999999995,9187.09,369.0799999999999,3192.94,3999.4399999999996,309.4,1452.06,3988.7400000000002,389.28,773.99,888.53,1941.3600000000001,110.97000000000003,170.16,2742.72,460.64,692.2199999999999,690.3,383.34000000000003,1127.83,100.0,2108.2200000000003,1834.72,738.0,643.96,1309.1599999999999,2282.7700000000004,1803.2699999999998,781.78,128.5,51.0,8060.24,749.1,1313.1000000000001,501.11999999999995,789.8899999999999,1037.5900000000001,288.59999999999997,439.4,656.6300000000001,1767.6799999999998,267.1600000000001,939.3800000000002,106.69999999999999,4981.54,1515.8999999999999,1588.36,546.04,223.95,5698.629999999999,12711.737199999996,405.38,189.39999999999998,574.4200000000001,4023.45,589.15,344.13999999999993,120.90000000000002,194.42,3471.0600000000004,1292.75,260.67999999999995,233.76,165.04999999999998,160.35,149.89,208.65,100.0,69.0,40.5,392.01,1506.12,157.08999999999997,1710.03,289.35,1931.42,492.36000000000007,700.63,163.8,290.15999999999997,556.75,2094.88,6568.940000000001,384.45,342.6,1984.5500000000002,300.83,1098.4299999999998,2514.76,193.42000000000002,524.1499999999999,4036.43,277.5,328.0,584.0699999999999,1865.6800000000003,1408.18,10129.27,3049.88,522.38,538.7299999999999,1122.0900000000001,1487.18,1005.08,332.64000000000004,101.19,106.83,256.4,100.0,768.2400000000001,454.24,116.19999999999999,509.01000000000005,157.9,351.3199999999999,144.0,1625.97,6.2,335.32000000000005,2459.63,210.32,606.27,214.89999999999998,1806.62,6826.66,900.0,1638.6599999999999,216.7,148.86,4043.7600000000007,1260.27,3368.51,894.41,3126.4,114.56,3295.7599999999998,437.96000000000004,1777.7800000000002,39.75,365.29,480.9200000000001,635.0400000000001,378.70000000000005,592.4000000000001,3576.669999999999,281.20000000000005,8147.73,764.34,10281.66,2654.06,77.50000000000001,1043.46,895.13,114.0,740.79,225.57999999999998,579.24,659.62,10318.95,499.31999999999994,6745.42,834.99,243.56,307.0899999999999,379.35,153.92000000000002,1587.9800000000002,785.15,559.87,457.90999999999997,2607.7,3286.5000000000005,1145.5999999999997,428.67999999999995,3985.1800000000003,4204.1,96.6,1862.32,437.8399999999999,1052.75,3359.45,6218.84,525.24,793.72,1335.5,165.0,1843.7500000000005,337.03999999999996,508.58,363.58000000000004,659.6800000000001,578.97,467.0400000000001]}],                        {\"scene\":{\"xaxis\":{\"title\":{\"text\":\"Recency\"}},\"yaxis\":{\"title\":{\"text\":\"Frequency\"}},\"zaxis\":{\"title\":{\"text\":\"Monetary\"}}},\"template\":{\"data\":{\"bar\":[{\"error_x\":{\"color\":\"#2a3f5f\"},\"error_y\":{\"color\":\"#2a3f5f\"},\"marker\":{\"line\":{\"color\":\"#E5ECF6\",\"width\":0.5},\"pattern\":{\"fillmode\":\"overlay\",\"size\":10,\"solidity\":0.2}},\"type\":\"bar\"}],\"barpolar\":[{\"marker\":{\"line\":{\"color\":\"#E5ECF6\",\"width\":0.5},\"pattern\":{\"fillmode\":\"overlay\",\"size\":10,\"solidity\":0.2}},\"type\":\"barpolar\"}],\"carpet\":[{\"aaxis\":{\"endlinecolor\":\"#2a3f5f\",\"gridcolor\":\"white\",\"linecolor\":\"white\",\"minorgridcolor\":\"white\",\"startlinecolor\":\"#2a3f5f\"},\"baxis\":{\"endlinecolor\":\"#2a3f5f\",\"gridcolor\":\"white\",\"linecolor\":\"white\",\"minorgridcolor\":\"white\",\"startlinecolor\":\"#2a3f5f\"},\"type\":\"carpet\"}],\"choropleth\":[{\"colorbar\":{\"outlinewidth\":0,\"ticks\":\"\"},\"type\":\"choropleth\"}],\"contour\":[{\"colorbar\":{\"outlinewidth\":0,\"ticks\":\"\"},\"colorscale\":[[0.0,\"#0d0887\"],[0.1111111111111111,\"#46039f\"],[0.2222222222222222,\"#7201a8\"],[0.3333333333333333,\"#9c179e\"],[0.4444444444444444,\"#bd3786\"],[0.5555555555555556,\"#d8576b\"],[0.6666666666666666,\"#ed7953\"],[0.7777777777777778,\"#fb9f3a\"],[0.8888888888888888,\"#fdca26\"],[1.0,\"#f0f921\"]],\"type\":\"contour\"}],\"contourcarpet\":[{\"colorbar\":{\"outlinewidth\":0,\"ticks\":\"\"},\"type\":\"contourcarpet\"}],\"heatmap\":[{\"colorbar\":{\"outlinewidth\":0,\"ticks\":\"\"},\"colorscale\":[[0.0,\"#0d0887\"],[0.1111111111111111,\"#46039f\"],[0.2222222222222222,\"#7201a8\"],[0.3333333333333333,\"#9c179e\"],[0.4444444444444444,\"#bd3786\"],[0.5555555555555556,\"#d8576b\"],[0.6666666666666666,\"#ed7953\"],[0.7777777777777778,\"#fb9f3a\"],[0.8888888888888888,\"#fdca26\"],[1.0,\"#f0f921\"]],\"type\":\"heatmap\"}],\"heatmapgl\":[{\"colorbar\":{\"outlinewidth\":0,\"ticks\":\"\"},\"colorscale\":[[0.0,\"#0d0887\"],[0.1111111111111111,\"#46039f\"],[0.2222222222222222,\"#7201a8\"],[0.3333333333333333,\"#9c179e\"],[0.4444444444444444,\"#bd3786\"],[0.5555555555555556,\"#d8576b\"],[0.6666666666666666,\"#ed7953\"],[0.7777777777777778,\"#fb9f3a\"],[0.8888888888888888,\"#fdca26\"],[1.0,\"#f0f921\"]],\"type\":\"heatmapgl\"}],\"histogram\":[{\"marker\":{\"pattern\":{\"fillmode\":\"overlay\",\"size\":10,\"solidity\":0.2}},\"type\":\"histogram\"}],\"histogram2d\":[{\"colorbar\":{\"outlinewidth\":0,\"ticks\":\"\"},\"colorscale\":[[0.0,\"#0d0887\"],[0.1111111111111111,\"#46039f\"],[0.2222222222222222,\"#7201a8\"],[0.3333333333333333,\"#9c179e\"],[0.4444444444444444,\"#bd3786\"],[0.5555555555555556,\"#d8576b\"],[0.6666666666666666,\"#ed7953\"],[0.7777777777777778,\"#fb9f3a\"],[0.8888888888888888,\"#fdca26\"],[1.0,\"#f0f921\"]],\"type\":\"histogram2d\"}],\"histogram2dcontour\":[{\"colorbar\":{\"outlinewidth\":0,\"ticks\":\"\"},\"colorscale\":[[0.0,\"#0d0887\"],[0.1111111111111111,\"#46039f\"],[0.2222222222222222,\"#7201a8\"],[0.3333333333333333,\"#9c179e\"],[0.4444444444444444,\"#bd3786\"],[0.5555555555555556,\"#d8576b\"],[0.6666666666666666,\"#ed7953\"],[0.7777777777777778,\"#fb9f3a\"],[0.8888888888888888,\"#fdca26\"],[1.0,\"#f0f921\"]],\"type\":\"histogram2dcontour\"}],\"mesh3d\":[{\"colorbar\":{\"outlinewidth\":0,\"ticks\":\"\"},\"type\":\"mesh3d\"}],\"parcoords\":[{\"line\":{\"colorbar\":{\"outlinewidth\":0,\"ticks\":\"\"}},\"type\":\"parcoords\"}],\"pie\":[{\"automargin\":true,\"type\":\"pie\"}],\"scatter\":[{\"marker\":{\"colorbar\":{\"outlinewidth\":0,\"ticks\":\"\"}},\"type\":\"scatter\"}],\"scatter3d\":[{\"line\":{\"colorbar\":{\"outlinewidth\":0,\"ticks\":\"\"}},\"marker\":{\"colorbar\":{\"outlinewidth\":0,\"ticks\":\"\"}},\"type\":\"scatter3d\"}],\"scattercarpet\":[{\"marker\":{\"colorbar\":{\"outlinewidth\":0,\"ticks\":\"\"}},\"type\":\"scattercarpet\"}],\"scattergeo\":[{\"marker\":{\"colorbar\":{\"outlinewidth\":0,\"ticks\":\"\"}},\"type\":\"scattergeo\"}],\"scattergl\":[{\"marker\":{\"colorbar\":{\"outlinewidth\":0,\"ticks\":\"\"}},\"type\":\"scattergl\"}],\"scattermapbox\":[{\"marker\":{\"colorbar\":{\"outlinewidth\":0,\"ticks\":\"\"}},\"type\":\"scattermapbox\"}],\"scatterpolar\":[{\"marker\":{\"colorbar\":{\"outlinewidth\":0,\"ticks\":\"\"}},\"type\":\"scatterpolar\"}],\"scatterpolargl\":[{\"marker\":{\"colorbar\":{\"outlinewidth\":0,\"ticks\":\"\"}},\"type\":\"scatterpolargl\"}],\"scatterternary\":[{\"marker\":{\"colorbar\":{\"outlinewidth\":0,\"ticks\":\"\"}},\"type\":\"scatterternary\"}],\"surface\":[{\"colorbar\":{\"outlinewidth\":0,\"ticks\":\"\"},\"colorscale\":[[0.0,\"#0d0887\"],[0.1111111111111111,\"#46039f\"],[0.2222222222222222,\"#7201a8\"],[0.3333333333333333,\"#9c179e\"],[0.4444444444444444,\"#bd3786\"],[0.5555555555555556,\"#d8576b\"],[0.6666666666666666,\"#ed7953\"],[0.7777777777777778,\"#fb9f3a\"],[0.8888888888888888,\"#fdca26\"],[1.0,\"#f0f921\"]],\"type\":\"surface\"}],\"table\":[{\"cells\":{\"fill\":{\"color\":\"#EBF0F8\"},\"line\":{\"color\":\"white\"}},\"header\":{\"fill\":{\"color\":\"#C8D4E3\"},\"line\":{\"color\":\"white\"}},\"type\":\"table\"}]},\"layout\":{\"annotationdefaults\":{\"arrowcolor\":\"#2a3f5f\",\"arrowhead\":0,\"arrowwidth\":1},\"autotypenumbers\":\"strict\",\"coloraxis\":{\"colorbar\":{\"outlinewidth\":0,\"ticks\":\"\"}},\"colorscale\":{\"diverging\":[[0,\"#8e0152\"],[0.1,\"#c51b7d\"],[0.2,\"#de77ae\"],[0.3,\"#f1b6da\"],[0.4,\"#fde0ef\"],[0.5,\"#f7f7f7\"],[0.6,\"#e6f5d0\"],[0.7,\"#b8e186\"],[0.8,\"#7fbc41\"],[0.9,\"#4d9221\"],[1,\"#276419\"]],\"sequential\":[[0.0,\"#0d0887\"],[0.1111111111111111,\"#46039f\"],[0.2222222222222222,\"#7201a8\"],[0.3333333333333333,\"#9c179e\"],[0.4444444444444444,\"#bd3786\"],[0.5555555555555556,\"#d8576b\"],[0.6666666666666666,\"#ed7953\"],[0.7777777777777778,\"#fb9f3a\"],[0.8888888888888888,\"#fdca26\"],[1.0,\"#f0f921\"]],\"sequentialminus\":[[0.0,\"#0d0887\"],[0.1111111111111111,\"#46039f\"],[0.2222222222222222,\"#7201a8\"],[0.3333333333333333,\"#9c179e\"],[0.4444444444444444,\"#bd3786\"],[0.5555555555555556,\"#d8576b\"],[0.6666666666666666,\"#ed7953\"],[0.7777777777777778,\"#fb9f3a\"],[0.8888888888888888,\"#fdca26\"],[1.0,\"#f0f921\"]]},\"colorway\":[\"#636efa\",\"#EF553B\",\"#00cc96\",\"#ab63fa\",\"#FFA15A\",\"#19d3f3\",\"#FF6692\",\"#B6E880\",\"#FF97FF\",\"#FECB52\"],\"font\":{\"color\":\"#2a3f5f\"},\"geo\":{\"bgcolor\":\"white\",\"lakecolor\":\"white\",\"landcolor\":\"#E5ECF6\",\"showlakes\":true,\"showland\":true,\"subunitcolor\":\"white\"},\"hoverlabel\":{\"align\":\"left\"},\"hovermode\":\"closest\",\"mapbox\":{\"style\":\"light\"},\"paper_bgcolor\":\"white\",\"plot_bgcolor\":\"#E5ECF6\",\"polar\":{\"angularaxis\":{\"gridcolor\":\"white\",\"linecolor\":\"white\",\"ticks\":\"\"},\"bgcolor\":\"#E5ECF6\",\"radialaxis\":{\"gridcolor\":\"white\",\"linecolor\":\"white\",\"ticks\":\"\"}},\"scene\":{\"xaxis\":{\"backgroundcolor\":\"#E5ECF6\",\"gridcolor\":\"white\",\"gridwidth\":2,\"linecolor\":\"white\",\"showbackground\":true,\"ticks\":\"\",\"zerolinecolor\":\"white\"},\"yaxis\":{\"backgroundcolor\":\"#E5ECF6\",\"gridcolor\":\"white\",\"gridwidth\":2,\"linecolor\":\"white\",\"showbackground\":true,\"ticks\":\"\",\"zerolinecolor\":\"white\"},\"zaxis\":{\"backgroundcolor\":\"#E5ECF6\",\"gridcolor\":\"white\",\"gridwidth\":2,\"linecolor\":\"white\",\"showbackground\":true,\"ticks\":\"\",\"zerolinecolor\":\"white\"}},\"shapedefaults\":{\"line\":{\"color\":\"#2a3f5f\"}},\"ternary\":{\"aaxis\":{\"gridcolor\":\"white\",\"linecolor\":\"white\",\"ticks\":\"\"},\"baxis\":{\"gridcolor\":\"white\",\"linecolor\":\"white\",\"ticks\":\"\"},\"bgcolor\":\"#E5ECF6\",\"caxis\":{\"gridcolor\":\"white\",\"linecolor\":\"white\",\"ticks\":\"\"}},\"title\":{\"x\":0.05},\"xaxis\":{\"automargin\":true,\"gridcolor\":\"white\",\"linecolor\":\"white\",\"ticks\":\"\",\"title\":{\"standoff\":15},\"zerolinecolor\":\"white\",\"zerolinewidth\":2},\"yaxis\":{\"automargin\":true,\"gridcolor\":\"white\",\"linecolor\":\"white\",\"ticks\":\"\",\"title\":{\"standoff\":15},\"zerolinecolor\":\"white\",\"zerolinewidth\":2}}},\"title\":{\"text\":\"Clusters\"}},                        {\"responsive\": true}                    ).then(function(){\n",
       "                            \n",
       "var gd = document.getElementById('7be711b6-cd64-4066-9a34-4330b667a048');\n",
       "var x = new MutationObserver(function (mutations, observer) {{\n",
       "        var display = window.getComputedStyle(gd).display;\n",
       "        if (!display || display === 'none') {{\n",
       "            console.log([gd, 'removed!']);\n",
       "            Plotly.purge(gd);\n",
       "            observer.disconnect();\n",
       "        }}\n",
       "}});\n",
       "\n",
       "// Listen for the removal of the full notebook cells\n",
       "var notebookContainer = gd.closest('#notebook-container');\n",
       "if (notebookContainer) {{\n",
       "    x.observe(notebookContainer, {childList: true});\n",
       "}}\n",
       "\n",
       "// Listen for the clearing of the current output cell\n",
       "var outputEl = gd.closest('.output');\n",
       "if (outputEl) {{\n",
       "    x.observe(outputEl, {childList: true});\n",
       "}}\n",
       "\n",
       "                        })                };                });            </script>        </div>"
      ]
     },
     "metadata": {},
     "output_type": "display_data"
    }
   ],
   "source": [
    "df_sample = df_RFM.sample(500, random_state=15)\n",
    "trace1 = go.Scatter3d(\n",
    "    x= df_sample.Recency,\n",
    "    y= df_sample.Frequency,\n",
    "    z= df_sample.Monetary,\n",
    "    mode='markers',\n",
    "    marker=dict(\n",
    "        color = df_sample.Cluster, \n",
    "        size= 3,\n",
    "        line=dict(color= df_sample.Cluster, width= 12),\n",
    "        opacity=0.8\n",
    "    )\n",
    ")\n",
    "data = [trace1]\n",
    "layout = go.Layout(\n",
    "    title= 'Clusters',\n",
    "    scene = dict(\n",
    "            xaxis = dict(title  = 'Recency'),\n",
    "            yaxis = dict(title  = 'Frequency'),\n",
    "            zaxis = dict(title  = 'Monetary')\n",
    "        )\n",
    ")\n",
    "fig = go.Figure(data=data, layout=layout)\n",
    "py.offline.iplot(fig)"
   ]
  },
  {
   "cell_type": "markdown",
   "metadata": {},
   "source": [
    "## Author\n",
    "Truong Hong Thai"
   ]
  }
 ],
 "metadata": {
  "kernelspec": {
   "display_name": "Python 3.9.10 64-bit (microsoft store)",
   "language": "python",
   "name": "python3"
  },
  "language_info": {
   "codemirror_mode": {
    "name": "ipython",
    "version": 3
   },
   "file_extension": ".py",
   "mimetype": "text/x-python",
   "name": "python",
   "nbconvert_exporter": "python",
   "pygments_lexer": "ipython3",
   "version": "3.9.10"
  },
  "orig_nbformat": 4,
  "vscode": {
   "interpreter": {
    "hash": "7308543470682ea101e1f70e24cd100a9ee119b66b8904f2faee64b0aa9cf9ae"
   }
  }
 },
 "nbformat": 4,
 "nbformat_minor": 2
}
